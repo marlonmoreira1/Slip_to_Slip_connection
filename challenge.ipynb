{
 "cells": [
  {
   "cell_type": "code",
   "execution_count": 1,
   "metadata": {},
   "outputs": [],
   "source": [
    "# packages\n",
    "import pandas as pd \n",
    "import numpy as np\n",
    "import matplotlib.pyplot as plt\n",
    "import datetime as dt\n",
    "from statsmodels.tsa.stattools import adfuller"
   ]
  },
  {
   "cell_type": "code",
   "execution_count": 2,
   "metadata": {},
   "outputs": [],
   "source": [
    "# loading the data\n",
    "data = pd.read_csv('challenge_data.csv',header=0,index_col=0)"
   ]
  },
  {
   "cell_type": "code",
   "execution_count": 3,
   "metadata": {},
   "outputs": [
    {
     "data": {
      "text/html": [
       "<div>\n",
       "<style scoped>\n",
       "    .dataframe tbody tr th:only-of-type {\n",
       "        vertical-align: middle;\n",
       "    }\n",
       "\n",
       "    .dataframe tbody tr th {\n",
       "        vertical-align: top;\n",
       "    }\n",
       "\n",
       "    .dataframe thead th {\n",
       "        text-align: right;\n",
       "    }\n",
       "</style>\n",
       "<table border=\"1\" class=\"dataframe\">\n",
       "  <thead>\n",
       "    <tr style=\"text-align: right;\">\n",
       "      <th></th>\n",
       "      <th>BDEP</th>\n",
       "      <th>TPO</th>\n",
       "      <th>HL</th>\n",
       "      <th>BHT</th>\n",
       "      <th>RPM</th>\n",
       "      <th>TOR</th>\n",
       "      <th>DEPT</th>\n",
       "      <th>WOB</th>\n",
       "    </tr>\n",
       "  </thead>\n",
       "  <tbody>\n",
       "    <tr>\n",
       "      <th>1.607131e+12</th>\n",
       "      <td>5063.135</td>\n",
       "      <td>19.548731</td>\n",
       "      <td>522.503986</td>\n",
       "      <td>18.982</td>\n",
       "      <td>0.0</td>\n",
       "      <td>0.0</td>\n",
       "      <td>5795.817</td>\n",
       "      <td>13.38</td>\n",
       "    </tr>\n",
       "    <tr>\n",
       "      <th>1.607131e+12</th>\n",
       "      <td>5063.135</td>\n",
       "      <td>15.586150</td>\n",
       "      <td>523.159986</td>\n",
       "      <td>19.068</td>\n",
       "      <td>0.0</td>\n",
       "      <td>0.0</td>\n",
       "      <td>5795.817</td>\n",
       "      <td>12.73</td>\n",
       "    </tr>\n",
       "    <tr>\n",
       "      <th>1.607131e+12</th>\n",
       "      <td>5062.959</td>\n",
       "      <td>18.492043</td>\n",
       "      <td>524.441986</td>\n",
       "      <td>19.164</td>\n",
       "      <td>0.0</td>\n",
       "      <td>0.0</td>\n",
       "      <td>5795.817</td>\n",
       "      <td>11.45</td>\n",
       "    </tr>\n",
       "    <tr>\n",
       "      <th>1.607131e+12</th>\n",
       "      <td>5062.959</td>\n",
       "      <td>16.114494</td>\n",
       "      <td>525.053986</td>\n",
       "      <td>19.249</td>\n",
       "      <td>0.0</td>\n",
       "      <td>0.0</td>\n",
       "      <td>5795.817</td>\n",
       "      <td>10.84</td>\n",
       "    </tr>\n",
       "    <tr>\n",
       "      <th>1.607131e+12</th>\n",
       "      <td>5062.778</td>\n",
       "      <td>17.699526</td>\n",
       "      <td>526.081986</td>\n",
       "      <td>19.347</td>\n",
       "      <td>0.0</td>\n",
       "      <td>0.0</td>\n",
       "      <td>5795.817</td>\n",
       "      <td>9.81</td>\n",
       "    </tr>\n",
       "    <tr>\n",
       "      <th>...</th>\n",
       "      <td>...</td>\n",
       "      <td>...</td>\n",
       "      <td>...</td>\n",
       "      <td>...</td>\n",
       "      <td>...</td>\n",
       "      <td>...</td>\n",
       "      <td>...</td>\n",
       "      <td>...</td>\n",
       "    </tr>\n",
       "    <tr>\n",
       "      <th>1.607151e+12</th>\n",
       "      <td>3055.453</td>\n",
       "      <td>0.000000</td>\n",
       "      <td>358.541991</td>\n",
       "      <td>24.768</td>\n",
       "      <td>0.0</td>\n",
       "      <td>0.0</td>\n",
       "      <td>5795.817</td>\n",
       "      <td>2.46</td>\n",
       "    </tr>\n",
       "    <tr>\n",
       "      <th>1.607151e+12</th>\n",
       "      <td>3055.453</td>\n",
       "      <td>0.000000</td>\n",
       "      <td>358.595991</td>\n",
       "      <td>24.856</td>\n",
       "      <td>0.0</td>\n",
       "      <td>0.0</td>\n",
       "      <td>5795.817</td>\n",
       "      <td>2.40</td>\n",
       "    </tr>\n",
       "    <tr>\n",
       "      <th>1.607151e+12</th>\n",
       "      <td>3055.453</td>\n",
       "      <td>0.000000</td>\n",
       "      <td>358.605991</td>\n",
       "      <td>24.940</td>\n",
       "      <td>0.0</td>\n",
       "      <td>0.0</td>\n",
       "      <td>5795.817</td>\n",
       "      <td>2.39</td>\n",
       "    </tr>\n",
       "    <tr>\n",
       "      <th>1.607151e+12</th>\n",
       "      <td>3055.281</td>\n",
       "      <td>0.000000</td>\n",
       "      <td>358.411991</td>\n",
       "      <td>25.038</td>\n",
       "      <td>0.0</td>\n",
       "      <td>0.0</td>\n",
       "      <td>5795.817</td>\n",
       "      <td>2.59</td>\n",
       "    </tr>\n",
       "    <tr>\n",
       "      <th>1.607151e+12</th>\n",
       "      <td>3055.281</td>\n",
       "      <td>0.000000</td>\n",
       "      <td>357.757991</td>\n",
       "      <td>25.123</td>\n",
       "      <td>0.0</td>\n",
       "      <td>0.0</td>\n",
       "      <td>5795.817</td>\n",
       "      <td>3.24</td>\n",
       "    </tr>\n",
       "  </tbody>\n",
       "</table>\n",
       "<p>40673 rows × 8 columns</p>\n",
       "</div>"
      ],
      "text/plain": [
       "                  BDEP        TPO          HL     BHT  RPM  TOR      DEPT  \\\n",
       "1.607131e+12  5063.135  19.548731  522.503986  18.982  0.0  0.0  5795.817   \n",
       "1.607131e+12  5063.135  15.586150  523.159986  19.068  0.0  0.0  5795.817   \n",
       "1.607131e+12  5062.959  18.492043  524.441986  19.164  0.0  0.0  5795.817   \n",
       "1.607131e+12  5062.959  16.114494  525.053986  19.249  0.0  0.0  5795.817   \n",
       "1.607131e+12  5062.778  17.699526  526.081986  19.347  0.0  0.0  5795.817   \n",
       "...                ...        ...         ...     ...  ...  ...       ...   \n",
       "1.607151e+12  3055.453   0.000000  358.541991  24.768  0.0  0.0  5795.817   \n",
       "1.607151e+12  3055.453   0.000000  358.595991  24.856  0.0  0.0  5795.817   \n",
       "1.607151e+12  3055.453   0.000000  358.605991  24.940  0.0  0.0  5795.817   \n",
       "1.607151e+12  3055.281   0.000000  358.411991  25.038  0.0  0.0  5795.817   \n",
       "1.607151e+12  3055.281   0.000000  357.757991  25.123  0.0  0.0  5795.817   \n",
       "\n",
       "                WOB  \n",
       "1.607131e+12  13.38  \n",
       "1.607131e+12  12.73  \n",
       "1.607131e+12  11.45  \n",
       "1.607131e+12  10.84  \n",
       "1.607131e+12   9.81  \n",
       "...             ...  \n",
       "1.607151e+12   2.46  \n",
       "1.607151e+12   2.40  \n",
       "1.607151e+12   2.39  \n",
       "1.607151e+12   2.59  \n",
       "1.607151e+12   3.24  \n",
       "\n",
       "[40673 rows x 8 columns]"
      ]
     },
     "execution_count": 3,
     "metadata": {},
     "output_type": "execute_result"
    }
   ],
   "source": [
    "# checking the data\n",
    "data"
   ]
  },
  {
   "cell_type": "code",
   "execution_count": 4,
   "metadata": {},
   "outputs": [
    {
     "data": {
      "text/plain": [
       "BDEP     0\n",
       "TPO     13\n",
       "HL       2\n",
       "BHT     15\n",
       "RPM     26\n",
       "TOR     17\n",
       "DEPT    22\n",
       "WOB     22\n",
       "dtype: int64"
      ]
     },
     "execution_count": 4,
     "metadata": {},
     "output_type": "execute_result"
    }
   ],
   "source": [
    "# looking for missing values\n",
    "data.isna().sum()"
   ]
  },
  {
   "cell_type": "code",
   "execution_count": 5,
   "metadata": {},
   "outputs": [
    {
     "data": {
      "text/plain": [
       "BDEP    11913\n",
       "TPO       181\n",
       "HL      28966\n",
       "BHT     17766\n",
       "RPM         1\n",
       "TOR         1\n",
       "DEPT        1\n",
       "WOB     11811\n",
       "dtype: int64"
      ]
     },
     "execution_count": 5,
     "metadata": {},
     "output_type": "execute_result"
    }
   ],
   "source": [
    "# checking the number of unique values\n",
    "data.nunique()"
   ]
  },
  {
   "cell_type": "code",
   "execution_count": 6,
   "metadata": {},
   "outputs": [
    {
     "data": {
      "text/plain": [
       "403"
      ]
     },
     "execution_count": 6,
     "metadata": {},
     "output_type": "execute_result"
    }
   ],
   "source": [
    "# duplicate values\n",
    "data.duplicated().sum()"
   ]
  },
  {
   "cell_type": "code",
   "execution_count": 7,
   "metadata": {},
   "outputs": [],
   "source": [
    "# loading the annotation data\n",
    "annot = pd.read_csv('challenge_annotation.csv',header=0,index_col=0)"
   ]
  },
  {
   "cell_type": "code",
   "execution_count": 8,
   "metadata": {},
   "outputs": [
    {
     "data": {
      "text/html": [
       "<div>\n",
       "<style scoped>\n",
       "    .dataframe tbody tr th:only-of-type {\n",
       "        vertical-align: middle;\n",
       "    }\n",
       "\n",
       "    .dataframe tbody tr th {\n",
       "        vertical-align: top;\n",
       "    }\n",
       "\n",
       "    .dataframe thead th {\n",
       "        text-align: right;\n",
       "    }\n",
       "</style>\n",
       "<table border=\"1\" class=\"dataframe\">\n",
       "  <thead>\n",
       "    <tr style=\"text-align: right;\">\n",
       "      <th></th>\n",
       "      <th>Annotation</th>\n",
       "    </tr>\n",
       "  </thead>\n",
       "  <tbody>\n",
       "    <tr>\n",
       "      <th>1.607131e+12</th>\n",
       "      <td>off_slips</td>\n",
       "    </tr>\n",
       "    <tr>\n",
       "      <th>1.607131e+12</th>\n",
       "      <td>on_slips</td>\n",
       "    </tr>\n",
       "    <tr>\n",
       "      <th>1.607131e+12</th>\n",
       "      <td>off_slips</td>\n",
       "    </tr>\n",
       "    <tr>\n",
       "      <th>1.607131e+12</th>\n",
       "      <td>on_slips</td>\n",
       "    </tr>\n",
       "    <tr>\n",
       "      <th>1.607131e+12</th>\n",
       "      <td>off_slips</td>\n",
       "    </tr>\n",
       "    <tr>\n",
       "      <th>...</th>\n",
       "      <td>...</td>\n",
       "    </tr>\n",
       "    <tr>\n",
       "      <th>1.607150e+12</th>\n",
       "      <td>off_slips</td>\n",
       "    </tr>\n",
       "    <tr>\n",
       "      <th>1.607151e+12</th>\n",
       "      <td>on_slips</td>\n",
       "    </tr>\n",
       "    <tr>\n",
       "      <th>1.607151e+12</th>\n",
       "      <td>off_slips</td>\n",
       "    </tr>\n",
       "    <tr>\n",
       "      <th>1.607151e+12</th>\n",
       "      <td>on_slips</td>\n",
       "    </tr>\n",
       "    <tr>\n",
       "      <th>1.607151e+12</th>\n",
       "      <td>off_slips</td>\n",
       "    </tr>\n",
       "  </tbody>\n",
       "</table>\n",
       "<p>109 rows × 1 columns</p>\n",
       "</div>"
      ],
      "text/plain": [
       "             Annotation\n",
       "1.607131e+12  off_slips\n",
       "1.607131e+12   on_slips\n",
       "1.607131e+12  off_slips\n",
       "1.607131e+12   on_slips\n",
       "1.607131e+12  off_slips\n",
       "...                 ...\n",
       "1.607150e+12  off_slips\n",
       "1.607151e+12   on_slips\n",
       "1.607151e+12  off_slips\n",
       "1.607151e+12   on_slips\n",
       "1.607151e+12  off_slips\n",
       "\n",
       "[109 rows x 1 columns]"
      ]
     },
     "execution_count": 8,
     "metadata": {},
     "output_type": "execute_result"
    }
   ],
   "source": [
    "annot"
   ]
  },
  {
   "cell_type": "code",
   "execution_count": 9,
   "metadata": {},
   "outputs": [],
   "source": [
    "# putting togheter the two datasets \n",
    "new_df = pd.merge_asof(data,annot,left_index=True,right_index=True)"
   ]
  },
  {
   "cell_type": "code",
   "execution_count": 10,
   "metadata": {},
   "outputs": [
    {
     "data": {
      "text/html": [
       "<div>\n",
       "<style scoped>\n",
       "    .dataframe tbody tr th:only-of-type {\n",
       "        vertical-align: middle;\n",
       "    }\n",
       "\n",
       "    .dataframe tbody tr th {\n",
       "        vertical-align: top;\n",
       "    }\n",
       "\n",
       "    .dataframe thead th {\n",
       "        text-align: right;\n",
       "    }\n",
       "</style>\n",
       "<table border=\"1\" class=\"dataframe\">\n",
       "  <thead>\n",
       "    <tr style=\"text-align: right;\">\n",
       "      <th></th>\n",
       "      <th>BDEP</th>\n",
       "      <th>TPO</th>\n",
       "      <th>HL</th>\n",
       "      <th>BHT</th>\n",
       "      <th>RPM</th>\n",
       "      <th>TOR</th>\n",
       "      <th>DEPT</th>\n",
       "      <th>WOB</th>\n",
       "      <th>Annotation</th>\n",
       "    </tr>\n",
       "  </thead>\n",
       "  <tbody>\n",
       "    <tr>\n",
       "      <th>1.607131e+12</th>\n",
       "      <td>5063.135</td>\n",
       "      <td>19.548731</td>\n",
       "      <td>522.503986</td>\n",
       "      <td>18.982</td>\n",
       "      <td>0.0</td>\n",
       "      <td>0.0</td>\n",
       "      <td>5795.817</td>\n",
       "      <td>13.38</td>\n",
       "      <td>NaN</td>\n",
       "    </tr>\n",
       "    <tr>\n",
       "      <th>1.607131e+12</th>\n",
       "      <td>5063.135</td>\n",
       "      <td>15.586150</td>\n",
       "      <td>523.159986</td>\n",
       "      <td>19.068</td>\n",
       "      <td>0.0</td>\n",
       "      <td>0.0</td>\n",
       "      <td>5795.817</td>\n",
       "      <td>12.73</td>\n",
       "      <td>NaN</td>\n",
       "    </tr>\n",
       "    <tr>\n",
       "      <th>1.607131e+12</th>\n",
       "      <td>5062.959</td>\n",
       "      <td>18.492043</td>\n",
       "      <td>524.441986</td>\n",
       "      <td>19.164</td>\n",
       "      <td>0.0</td>\n",
       "      <td>0.0</td>\n",
       "      <td>5795.817</td>\n",
       "      <td>11.45</td>\n",
       "      <td>NaN</td>\n",
       "    </tr>\n",
       "    <tr>\n",
       "      <th>1.607131e+12</th>\n",
       "      <td>5062.959</td>\n",
       "      <td>16.114494</td>\n",
       "      <td>525.053986</td>\n",
       "      <td>19.249</td>\n",
       "      <td>0.0</td>\n",
       "      <td>0.0</td>\n",
       "      <td>5795.817</td>\n",
       "      <td>10.84</td>\n",
       "      <td>NaN</td>\n",
       "    </tr>\n",
       "    <tr>\n",
       "      <th>1.607131e+12</th>\n",
       "      <td>5062.778</td>\n",
       "      <td>17.699526</td>\n",
       "      <td>526.081986</td>\n",
       "      <td>19.347</td>\n",
       "      <td>0.0</td>\n",
       "      <td>0.0</td>\n",
       "      <td>5795.817</td>\n",
       "      <td>9.81</td>\n",
       "      <td>NaN</td>\n",
       "    </tr>\n",
       "    <tr>\n",
       "      <th>...</th>\n",
       "      <td>...</td>\n",
       "      <td>...</td>\n",
       "      <td>...</td>\n",
       "      <td>...</td>\n",
       "      <td>...</td>\n",
       "      <td>...</td>\n",
       "      <td>...</td>\n",
       "      <td>...</td>\n",
       "      <td>...</td>\n",
       "    </tr>\n",
       "    <tr>\n",
       "      <th>1.607151e+12</th>\n",
       "      <td>3055.453</td>\n",
       "      <td>0.000000</td>\n",
       "      <td>358.541991</td>\n",
       "      <td>24.768</td>\n",
       "      <td>0.0</td>\n",
       "      <td>0.0</td>\n",
       "      <td>5795.817</td>\n",
       "      <td>2.46</td>\n",
       "      <td>off_slips</td>\n",
       "    </tr>\n",
       "    <tr>\n",
       "      <th>1.607151e+12</th>\n",
       "      <td>3055.453</td>\n",
       "      <td>0.000000</td>\n",
       "      <td>358.595991</td>\n",
       "      <td>24.856</td>\n",
       "      <td>0.0</td>\n",
       "      <td>0.0</td>\n",
       "      <td>5795.817</td>\n",
       "      <td>2.40</td>\n",
       "      <td>off_slips</td>\n",
       "    </tr>\n",
       "    <tr>\n",
       "      <th>1.607151e+12</th>\n",
       "      <td>3055.453</td>\n",
       "      <td>0.000000</td>\n",
       "      <td>358.605991</td>\n",
       "      <td>24.940</td>\n",
       "      <td>0.0</td>\n",
       "      <td>0.0</td>\n",
       "      <td>5795.817</td>\n",
       "      <td>2.39</td>\n",
       "      <td>off_slips</td>\n",
       "    </tr>\n",
       "    <tr>\n",
       "      <th>1.607151e+12</th>\n",
       "      <td>3055.281</td>\n",
       "      <td>0.000000</td>\n",
       "      <td>358.411991</td>\n",
       "      <td>25.038</td>\n",
       "      <td>0.0</td>\n",
       "      <td>0.0</td>\n",
       "      <td>5795.817</td>\n",
       "      <td>2.59</td>\n",
       "      <td>off_slips</td>\n",
       "    </tr>\n",
       "    <tr>\n",
       "      <th>1.607151e+12</th>\n",
       "      <td>3055.281</td>\n",
       "      <td>0.000000</td>\n",
       "      <td>357.757991</td>\n",
       "      <td>25.123</td>\n",
       "      <td>0.0</td>\n",
       "      <td>0.0</td>\n",
       "      <td>5795.817</td>\n",
       "      <td>3.24</td>\n",
       "      <td>off_slips</td>\n",
       "    </tr>\n",
       "  </tbody>\n",
       "</table>\n",
       "<p>40673 rows × 9 columns</p>\n",
       "</div>"
      ],
      "text/plain": [
       "                  BDEP        TPO          HL     BHT  RPM  TOR      DEPT  \\\n",
       "1.607131e+12  5063.135  19.548731  522.503986  18.982  0.0  0.0  5795.817   \n",
       "1.607131e+12  5063.135  15.586150  523.159986  19.068  0.0  0.0  5795.817   \n",
       "1.607131e+12  5062.959  18.492043  524.441986  19.164  0.0  0.0  5795.817   \n",
       "1.607131e+12  5062.959  16.114494  525.053986  19.249  0.0  0.0  5795.817   \n",
       "1.607131e+12  5062.778  17.699526  526.081986  19.347  0.0  0.0  5795.817   \n",
       "...                ...        ...         ...     ...  ...  ...       ...   \n",
       "1.607151e+12  3055.453   0.000000  358.541991  24.768  0.0  0.0  5795.817   \n",
       "1.607151e+12  3055.453   0.000000  358.595991  24.856  0.0  0.0  5795.817   \n",
       "1.607151e+12  3055.453   0.000000  358.605991  24.940  0.0  0.0  5795.817   \n",
       "1.607151e+12  3055.281   0.000000  358.411991  25.038  0.0  0.0  5795.817   \n",
       "1.607151e+12  3055.281   0.000000  357.757991  25.123  0.0  0.0  5795.817   \n",
       "\n",
       "                WOB Annotation  \n",
       "1.607131e+12  13.38        NaN  \n",
       "1.607131e+12  12.73        NaN  \n",
       "1.607131e+12  11.45        NaN  \n",
       "1.607131e+12  10.84        NaN  \n",
       "1.607131e+12   9.81        NaN  \n",
       "...             ...        ...  \n",
       "1.607151e+12   2.46  off_slips  \n",
       "1.607151e+12   2.40  off_slips  \n",
       "1.607151e+12   2.39  off_slips  \n",
       "1.607151e+12   2.59  off_slips  \n",
       "1.607151e+12   3.24  off_slips  \n",
       "\n",
       "[40673 rows x 9 columns]"
      ]
     },
     "execution_count": 10,
     "metadata": {},
     "output_type": "execute_result"
    }
   ],
   "source": [
    "new_df"
   ]
  },
  {
   "cell_type": "code",
   "execution_count": 11,
   "metadata": {},
   "outputs": [
    {
     "data": {
      "text/plain": [
       "BDEP            0\n",
       "TPO            13\n",
       "HL              2\n",
       "BHT            15\n",
       "RPM            26\n",
       "TOR            17\n",
       "DEPT           22\n",
       "WOB            22\n",
       "Annotation    284\n",
       "dtype: int64"
      ]
     },
     "execution_count": 11,
     "metadata": {},
     "output_type": "execute_result"
    }
   ],
   "source": [
    "# looking for missing values\n",
    "new_df.isna().sum()"
   ]
  },
  {
   "cell_type": "markdown",
   "metadata": {},
   "source": [
    "After the join the Annotation column has 284 missing values.\n",
    "This happened because the join was made by the nearest keys (Timestamps ms).\n",
    "I will have to drop this values."
   ]
  },
  {
   "cell_type": "code",
   "execution_count": 12,
   "metadata": {},
   "outputs": [
    {
     "data": {
      "text/plain": [
       "BDEP          11913\n",
       "TPO             181\n",
       "HL            28966\n",
       "BHT           17766\n",
       "RPM               1\n",
       "TOR               1\n",
       "DEPT              1\n",
       "WOB           11811\n",
       "Annotation        2\n",
       "dtype: int64"
      ]
     },
     "execution_count": 12,
     "metadata": {},
     "output_type": "execute_result"
    }
   ],
   "source": [
    "# checking the number of unique values\n",
    "new_df.nunique()"
   ]
  },
  {
   "cell_type": "code",
   "execution_count": 13,
   "metadata": {},
   "outputs": [
    {
     "data": {
      "text/plain": [
       "403"
      ]
     },
     "execution_count": 13,
     "metadata": {},
     "output_type": "execute_result"
    }
   ],
   "source": [
    "new_df.duplicated().sum()"
   ]
  },
  {
   "cell_type": "code",
   "execution_count": 14,
   "metadata": {},
   "outputs": [
    {
     "data": {
      "text/html": [
       "<div>\n",
       "<style scoped>\n",
       "    .dataframe tbody tr th:only-of-type {\n",
       "        vertical-align: middle;\n",
       "    }\n",
       "\n",
       "    .dataframe tbody tr th {\n",
       "        vertical-align: top;\n",
       "    }\n",
       "\n",
       "    .dataframe thead th {\n",
       "        text-align: right;\n",
       "    }\n",
       "</style>\n",
       "<table border=\"1\" class=\"dataframe\">\n",
       "  <thead>\n",
       "    <tr style=\"text-align: right;\">\n",
       "      <th></th>\n",
       "      <th>BDEP</th>\n",
       "      <th>TPO</th>\n",
       "      <th>HL</th>\n",
       "      <th>BHT</th>\n",
       "      <th>RPM</th>\n",
       "      <th>TOR</th>\n",
       "      <th>DEPT</th>\n",
       "      <th>WOB</th>\n",
       "    </tr>\n",
       "  </thead>\n",
       "  <tbody>\n",
       "    <tr>\n",
       "      <th>count</th>\n",
       "      <td>40673.000000</td>\n",
       "      <td>40660.000000</td>\n",
       "      <td>40671.000000</td>\n",
       "      <td>40658.000000</td>\n",
       "      <td>40647.0</td>\n",
       "      <td>40656.0</td>\n",
       "      <td>4.065100e+04</td>\n",
       "      <td>40651.000000</td>\n",
       "    </tr>\n",
       "    <tr>\n",
       "      <th>mean</th>\n",
       "      <td>4128.110895</td>\n",
       "      <td>6.970594</td>\n",
       "      <td>322.494967</td>\n",
       "      <td>20.995525</td>\n",
       "      <td>0.0</td>\n",
       "      <td>0.0</td>\n",
       "      <td>5.795817e+03</td>\n",
       "      <td>109.278085</td>\n",
       "    </tr>\n",
       "    <tr>\n",
       "      <th>std</th>\n",
       "      <td>566.009203</td>\n",
       "      <td>35.477067</td>\n",
       "      <td>157.447630</td>\n",
       "      <td>13.364818</td>\n",
       "      <td>0.0</td>\n",
       "      <td>0.0</td>\n",
       "      <td>1.537974e-09</td>\n",
       "      <td>155.015235</td>\n",
       "    </tr>\n",
       "    <tr>\n",
       "      <th>min</th>\n",
       "      <td>3055.281000</td>\n",
       "      <td>0.000000</td>\n",
       "      <td>80.455998</td>\n",
       "      <td>1.694000</td>\n",
       "      <td>0.0</td>\n",
       "      <td>0.0</td>\n",
       "      <td>5.795817e+03</td>\n",
       "      <td>-10.760000</td>\n",
       "    </tr>\n",
       "    <tr>\n",
       "      <th>25%</th>\n",
       "      <td>3636.986000</td>\n",
       "      <td>0.000000</td>\n",
       "      <td>97.413997</td>\n",
       "      <td>7.635000</td>\n",
       "      <td>0.0</td>\n",
       "      <td>0.0</td>\n",
       "      <td>5.795817e+03</td>\n",
       "      <td>1.760000</td>\n",
       "    </tr>\n",
       "    <tr>\n",
       "      <th>50%</th>\n",
       "      <td>4179.829000</td>\n",
       "      <td>0.000000</td>\n",
       "      <td>394.129990</td>\n",
       "      <td>22.199000</td>\n",
       "      <td>0.0</td>\n",
       "      <td>0.0</td>\n",
       "      <td>5.795817e+03</td>\n",
       "      <td>6.600000</td>\n",
       "    </tr>\n",
       "    <tr>\n",
       "      <th>75%</th>\n",
       "      <td>4610.241000</td>\n",
       "      <td>0.000000</td>\n",
       "      <td>445.305988</td>\n",
       "      <td>33.103250</td>\n",
       "      <td>0.0</td>\n",
       "      <td>0.0</td>\n",
       "      <td>5.795817e+03</td>\n",
       "      <td>293.090000</td>\n",
       "    </tr>\n",
       "    <tr>\n",
       "      <th>max</th>\n",
       "      <td>5063.135000</td>\n",
       "      <td>204.469157</td>\n",
       "      <td>528.517986</td>\n",
       "      <td>39.987000</td>\n",
       "      <td>0.0</td>\n",
       "      <td>0.0</td>\n",
       "      <td>5.795817e+03</td>\n",
       "      <td>451.030000</td>\n",
       "    </tr>\n",
       "  </tbody>\n",
       "</table>\n",
       "</div>"
      ],
      "text/plain": [
       "               BDEP           TPO            HL           BHT      RPM  \\\n",
       "count  40673.000000  40660.000000  40671.000000  40658.000000  40647.0   \n",
       "mean    4128.110895      6.970594    322.494967     20.995525      0.0   \n",
       "std      566.009203     35.477067    157.447630     13.364818      0.0   \n",
       "min     3055.281000      0.000000     80.455998      1.694000      0.0   \n",
       "25%     3636.986000      0.000000     97.413997      7.635000      0.0   \n",
       "50%     4179.829000      0.000000    394.129990     22.199000      0.0   \n",
       "75%     4610.241000      0.000000    445.305988     33.103250      0.0   \n",
       "max     5063.135000    204.469157    528.517986     39.987000      0.0   \n",
       "\n",
       "           TOR          DEPT           WOB  \n",
       "count  40656.0  4.065100e+04  40651.000000  \n",
       "mean       0.0  5.795817e+03    109.278085  \n",
       "std        0.0  1.537974e-09    155.015235  \n",
       "min        0.0  5.795817e+03    -10.760000  \n",
       "25%        0.0  5.795817e+03      1.760000  \n",
       "50%        0.0  5.795817e+03      6.600000  \n",
       "75%        0.0  5.795817e+03    293.090000  \n",
       "max        0.0  5.795817e+03    451.030000  "
      ]
     },
     "execution_count": 14,
     "metadata": {},
     "output_type": "execute_result"
    }
   ],
   "source": [
    "# describing the data\n",
    "new_df.describe()"
   ]
  },
  {
   "cell_type": "markdown",
   "metadata": {},
   "source": [
    "the RPM and TOR columns appear to have only 0. TPO looks like to be the same."
   ]
  },
  {
   "cell_type": "code",
   "execution_count": 15,
   "metadata": {},
   "outputs": [
    {
     "data": {
      "text/plain": [
       "BDEP              0\n",
       "TPO           38748\n",
       "HL                0\n",
       "BHT               0\n",
       "RPM           40647\n",
       "TOR           40656\n",
       "DEPT              0\n",
       "WOB              25\n",
       "Annotation        0\n",
       "dtype: int64"
      ]
     },
     "execution_count": 15,
     "metadata": {},
     "output_type": "execute_result"
    }
   ],
   "source": [
    "# checking if the RPM and TPO have only 0.\n",
    "(new_df==0).sum(axis=0)"
   ]
  },
  {
   "cell_type": "code",
   "execution_count": 16,
   "metadata": {},
   "outputs": [],
   "source": [
    "# converting to datetime\n",
    "new_df.index = pd.to_datetime(new_df.index, unit='ms')"
   ]
  },
  {
   "cell_type": "code",
   "execution_count": 17,
   "metadata": {},
   "outputs": [],
   "source": [
    "# creating a date column\n",
    "new_df['time'] = new_df.index"
   ]
  },
  {
   "cell_type": "code",
   "execution_count": 18,
   "metadata": {},
   "outputs": [
    {
     "data": {
      "image/png": "[encoded data removed]",
      "text/plain": [
       "<Figure size 1008x504 with 8 Axes>"
      ]
     },
     "metadata": {
      "needs_background": "light"
     },
     "output_type": "display_data"
    }
   ],
   "source": [
    "# plot of the data\n",
    "logs = new_df.columns[:8]\n",
    "colors = ['red', 'orange', 'green', 'cyan', 'blue', 'violet', 'purple','yellow']\n",
    "\n",
    "plt.figure(figsize=(14,7))\n",
    "for i in range(len(logs)):\n",
    "    plt.subplot(1,8,i+1)\n",
    "    plt.plot(new_df[logs[i]], new_df.time, color=colors[i])\n",
    "    plt.title(logs[i])\n",
    "    plt.gca().invert_yaxis()\n",
    "\n",
    "plt.tight_layout()"
   ]
  },
  {
   "cell_type": "markdown",
   "metadata": {},
   "source": [
    "Between hour 2 and 3 something happened that stop the drill.\n",
    "Almost 30 minutes the slips were off. Also in the period a connection operation took almost 10 minutes to happen."
   ]
  },
  {
   "cell_type": "code",
   "execution_count": 19,
   "metadata": {},
   "outputs": [],
   "source": [
    "# the data looks like stationary.\n",
    "X = new_df.HL.values\n",
    "\n",
    "X = X[~np.isnan(X)]"
   ]
  },
  {
   "cell_type": "code",
   "execution_count": 20,
   "metadata": {},
   "outputs": [
    {
     "name": "stdout",
     "output_type": "stream",
     "text": [
      "ADF Statistic: -11.104186\n",
      "p-value: 0.000000\n",
      "Critical Values:\n",
      "\t1%: -3.431\n",
      "\t5%: -2.862\n",
      "\t10%: -2.567\n"
     ]
    }
   ],
   "source": [
    "# apply adfuller test to see if the data is stationary or not\n",
    "result = adfuller(X)\n",
    "print('ADF Statistic: %f' % result[0])\n",
    "print('p-value: %f' % result[1])\n",
    "print('Critical Values:')\n",
    "for key, value in result[4].items():\n",
    "    print('\\t%s: %.3f' % (key, value))"
   ]
  },
  {
   "cell_type": "markdown",
   "metadata": {},
   "source": [
    "the data is stationary."
   ]
  },
  {
   "cell_type": "code",
   "execution_count": 21,
   "metadata": {},
   "outputs": [
    {
     "data": {
      "text/html": [
       "<div>\n",
       "<style scoped>\n",
       "    .dataframe tbody tr th:only-of-type {\n",
       "        vertical-align: middle;\n",
       "    }\n",
       "\n",
       "    .dataframe tbody tr th {\n",
       "        vertical-align: top;\n",
       "    }\n",
       "\n",
       "    .dataframe thead th {\n",
       "        text-align: right;\n",
       "    }\n",
       "</style>\n",
       "<table border=\"1\" class=\"dataframe\">\n",
       "  <thead>\n",
       "    <tr style=\"text-align: right;\">\n",
       "      <th></th>\n",
       "      <th>BDEP</th>\n",
       "      <th>TPO</th>\n",
       "      <th>HL</th>\n",
       "      <th>BHT</th>\n",
       "      <th>RPM</th>\n",
       "      <th>TOR</th>\n",
       "      <th>DEPT</th>\n",
       "      <th>WOB</th>\n",
       "      <th>Annotation</th>\n",
       "      <th>time</th>\n",
       "    </tr>\n",
       "  </thead>\n",
       "  <tbody>\n",
       "    <tr>\n",
       "      <th>2020-12-05 01:12:00.313999872</th>\n",
       "      <td>5063.135</td>\n",
       "      <td>19.548731</td>\n",
       "      <td>522.503986</td>\n",
       "      <td>18.982</td>\n",
       "      <td>0.0</td>\n",
       "      <td>0.0</td>\n",
       "      <td>5795.817</td>\n",
       "      <td>13.38</td>\n",
       "      <td>NaN</td>\n",
       "      <td>2020-12-05 01:12:00.313999872</td>\n",
       "    </tr>\n",
       "    <tr>\n",
       "      <th>2020-12-05 01:12:00.822000128</th>\n",
       "      <td>5063.135</td>\n",
       "      <td>15.586150</td>\n",
       "      <td>523.159986</td>\n",
       "      <td>19.068</td>\n",
       "      <td>0.0</td>\n",
       "      <td>0.0</td>\n",
       "      <td>5795.817</td>\n",
       "      <td>12.73</td>\n",
       "      <td>NaN</td>\n",
       "      <td>2020-12-05 01:12:00.822000128</td>\n",
       "    </tr>\n",
       "    <tr>\n",
       "      <th>2020-12-05 01:12:01.328999936</th>\n",
       "      <td>5062.959</td>\n",
       "      <td>18.492043</td>\n",
       "      <td>524.441986</td>\n",
       "      <td>19.164</td>\n",
       "      <td>0.0</td>\n",
       "      <td>0.0</td>\n",
       "      <td>5795.817</td>\n",
       "      <td>11.45</td>\n",
       "      <td>NaN</td>\n",
       "      <td>2020-12-05 01:12:01.328999936</td>\n",
       "    </tr>\n",
       "    <tr>\n",
       "      <th>2020-12-05 01:12:01.838000128</th>\n",
       "      <td>5062.959</td>\n",
       "      <td>16.114494</td>\n",
       "      <td>525.053986</td>\n",
       "      <td>19.249</td>\n",
       "      <td>0.0</td>\n",
       "      <td>0.0</td>\n",
       "      <td>5795.817</td>\n",
       "      <td>10.84</td>\n",
       "      <td>NaN</td>\n",
       "      <td>2020-12-05 01:12:01.838000128</td>\n",
       "    </tr>\n",
       "    <tr>\n",
       "      <th>2020-12-05 01:12:02.345999872</th>\n",
       "      <td>5062.778</td>\n",
       "      <td>17.699526</td>\n",
       "      <td>526.081986</td>\n",
       "      <td>19.347</td>\n",
       "      <td>0.0</td>\n",
       "      <td>0.0</td>\n",
       "      <td>5795.817</td>\n",
       "      <td>9.81</td>\n",
       "      <td>NaN</td>\n",
       "      <td>2020-12-05 01:12:02.345999872</td>\n",
       "    </tr>\n",
       "    <tr>\n",
       "      <th>...</th>\n",
       "      <td>...</td>\n",
       "      <td>...</td>\n",
       "      <td>...</td>\n",
       "      <td>...</td>\n",
       "      <td>...</td>\n",
       "      <td>...</td>\n",
       "      <td>...</td>\n",
       "      <td>...</td>\n",
       "      <td>...</td>\n",
       "      <td>...</td>\n",
       "    </tr>\n",
       "    <tr>\n",
       "      <th>2020-12-05 06:50:57.604000000</th>\n",
       "      <td>3055.453</td>\n",
       "      <td>0.000000</td>\n",
       "      <td>358.541991</td>\n",
       "      <td>24.768</td>\n",
       "      <td>0.0</td>\n",
       "      <td>0.0</td>\n",
       "      <td>5795.817</td>\n",
       "      <td>2.46</td>\n",
       "      <td>off_slips</td>\n",
       "      <td>2020-12-05 06:50:57.604000000</td>\n",
       "    </tr>\n",
       "    <tr>\n",
       "      <th>2020-12-05 06:50:58.112000000</th>\n",
       "      <td>3055.453</td>\n",
       "      <td>0.000000</td>\n",
       "      <td>358.595991</td>\n",
       "      <td>24.856</td>\n",
       "      <td>0.0</td>\n",
       "      <td>0.0</td>\n",
       "      <td>5795.817</td>\n",
       "      <td>2.40</td>\n",
       "      <td>off_slips</td>\n",
       "      <td>2020-12-05 06:50:58.112000000</td>\n",
       "    </tr>\n",
       "    <tr>\n",
       "      <th>2020-12-05 06:50:58.620000000</th>\n",
       "      <td>3055.453</td>\n",
       "      <td>0.000000</td>\n",
       "      <td>358.605991</td>\n",
       "      <td>24.940</td>\n",
       "      <td>0.0</td>\n",
       "      <td>0.0</td>\n",
       "      <td>5795.817</td>\n",
       "      <td>2.39</td>\n",
       "      <td>off_slips</td>\n",
       "      <td>2020-12-05 06:50:58.620000000</td>\n",
       "    </tr>\n",
       "    <tr>\n",
       "      <th>2020-12-05 06:50:59.128000000</th>\n",
       "      <td>3055.281</td>\n",
       "      <td>0.000000</td>\n",
       "      <td>358.411991</td>\n",
       "      <td>25.038</td>\n",
       "      <td>0.0</td>\n",
       "      <td>0.0</td>\n",
       "      <td>5795.817</td>\n",
       "      <td>2.59</td>\n",
       "      <td>off_slips</td>\n",
       "      <td>2020-12-05 06:50:59.128000000</td>\n",
       "    </tr>\n",
       "    <tr>\n",
       "      <th>2020-12-05 06:50:59.636000000</th>\n",
       "      <td>3055.281</td>\n",
       "      <td>0.000000</td>\n",
       "      <td>357.757991</td>\n",
       "      <td>25.123</td>\n",
       "      <td>0.0</td>\n",
       "      <td>0.0</td>\n",
       "      <td>5795.817</td>\n",
       "      <td>3.24</td>\n",
       "      <td>off_slips</td>\n",
       "      <td>2020-12-05 06:50:59.636000000</td>\n",
       "    </tr>\n",
       "  </tbody>\n",
       "</table>\n",
       "<p>40673 rows × 10 columns</p>\n",
       "</div>"
      ],
      "text/plain": [
       "                                   BDEP        TPO          HL     BHT  RPM  \\\n",
       "2020-12-05 01:12:00.313999872  5063.135  19.548731  522.503986  18.982  0.0   \n",
       "2020-12-05 01:12:00.822000128  5063.135  15.586150  523.159986  19.068  0.0   \n",
       "2020-12-05 01:12:01.328999936  5062.959  18.492043  524.441986  19.164  0.0   \n",
       "2020-12-05 01:12:01.838000128  5062.959  16.114494  525.053986  19.249  0.0   \n",
       "2020-12-05 01:12:02.345999872  5062.778  17.699526  526.081986  19.347  0.0   \n",
       "...                                 ...        ...         ...     ...  ...   \n",
       "2020-12-05 06:50:57.604000000  3055.453   0.000000  358.541991  24.768  0.0   \n",
       "2020-12-05 06:50:58.112000000  3055.453   0.000000  358.595991  24.856  0.0   \n",
       "2020-12-05 06:50:58.620000000  3055.453   0.000000  358.605991  24.940  0.0   \n",
       "2020-12-05 06:50:59.128000000  3055.281   0.000000  358.411991  25.038  0.0   \n",
       "2020-12-05 06:50:59.636000000  3055.281   0.000000  357.757991  25.123  0.0   \n",
       "\n",
       "                               TOR      DEPT    WOB Annotation  \\\n",
       "2020-12-05 01:12:00.313999872  0.0  5795.817  13.38        NaN   \n",
       "2020-12-05 01:12:00.822000128  0.0  5795.817  12.73        NaN   \n",
       "2020-12-05 01:12:01.328999936  0.0  5795.817  11.45        NaN   \n",
       "2020-12-05 01:12:01.838000128  0.0  5795.817  10.84        NaN   \n",
       "2020-12-05 01:12:02.345999872  0.0  5795.817   9.81        NaN   \n",
       "...                            ...       ...    ...        ...   \n",
       "2020-12-05 06:50:57.604000000  0.0  5795.817   2.46  off_slips   \n",
       "2020-12-05 06:50:58.112000000  0.0  5795.817   2.40  off_slips   \n",
       "2020-12-05 06:50:58.620000000  0.0  5795.817   2.39  off_slips   \n",
       "2020-12-05 06:50:59.128000000  0.0  5795.817   2.59  off_slips   \n",
       "2020-12-05 06:50:59.636000000  0.0  5795.817   3.24  off_slips   \n",
       "\n",
       "                                                       time  \n",
       "2020-12-05 01:12:00.313999872 2020-12-05 01:12:00.313999872  \n",
       "2020-12-05 01:12:00.822000128 2020-12-05 01:12:00.822000128  \n",
       "2020-12-05 01:12:01.328999936 2020-12-05 01:12:01.328999936  \n",
       "2020-12-05 01:12:01.838000128 2020-12-05 01:12:01.838000128  \n",
       "2020-12-05 01:12:02.345999872 2020-12-05 01:12:02.345999872  \n",
       "...                                                     ...  \n",
       "2020-12-05 06:50:57.604000000 2020-12-05 06:50:57.604000000  \n",
       "2020-12-05 06:50:58.112000000 2020-12-05 06:50:58.112000000  \n",
       "2020-12-05 06:50:58.620000000 2020-12-05 06:50:58.620000000  \n",
       "2020-12-05 06:50:59.128000000 2020-12-05 06:50:59.128000000  \n",
       "2020-12-05 06:50:59.636000000 2020-12-05 06:50:59.636000000  \n",
       "\n",
       "[40673 rows x 10 columns]"
      ]
     },
     "execution_count": 21,
     "metadata": {},
     "output_type": "execute_result"
    }
   ],
   "source": [
    "new_df"
   ]
  },
  {
   "cell_type": "markdown",
   "metadata": {},
   "source": [
    "I want to see the slip to slip connection time. Aggregating the total time when it was on and when it was off. \n",
    "Thus, I will create a timediff variable that is the difference in seconds from each row.\n",
    "Then group by Annotation to take the total time."
   ]
  },
  {
   "cell_type": "code",
   "execution_count": 22,
   "metadata": {},
   "outputs": [],
   "source": [
    "# creating the timediff\n",
    "new_df['timediff'] = new_df['time'].diff()"
   ]
  },
  {
   "cell_type": "code",
   "execution_count": 23,
   "metadata": {},
   "outputs": [],
   "source": [
    "# to reset when the Annotation change from on to off or vice-versa\n",
    "derive = (new_df.Annotation != new_df.Annotation.shift()).cumsum()"
   ]
  },
  {
   "cell_type": "code",
   "execution_count": 24,
   "metadata": {},
   "outputs": [],
   "source": [
    "# take the total difference\n",
    "slip_to_slip_connection = new_df.groupby(['Annotation', derive], as_index=False, sort=False)['timediff'].sum()"
   ]
  },
  {
   "cell_type": "code",
   "execution_count": 25,
   "metadata": {},
   "outputs": [
    {
     "data": {
      "text/html": [
       "<div>\n",
       "<style scoped>\n",
       "    .dataframe tbody tr th:only-of-type {\n",
       "        vertical-align: middle;\n",
       "    }\n",
       "\n",
       "    .dataframe tbody tr th {\n",
       "        vertical-align: top;\n",
       "    }\n",
       "\n",
       "    .dataframe thead th {\n",
       "        text-align: right;\n",
       "    }\n",
       "</style>\n",
       "<table border=\"1\" class=\"dataframe\">\n",
       "  <thead>\n",
       "    <tr style=\"text-align: right;\">\n",
       "      <th></th>\n",
       "      <th>Annotation</th>\n",
       "      <th>timediff</th>\n",
       "    </tr>\n",
       "  </thead>\n",
       "  <tbody>\n",
       "    <tr>\n",
       "      <th>0</th>\n",
       "      <td>off_slips</td>\n",
       "      <td>0 days 00:00:17.954999808</td>\n",
       "    </tr>\n",
       "    <tr>\n",
       "      <th>1</th>\n",
       "      <td>on_slips</td>\n",
       "      <td>0 days 00:01:26.024000</td>\n",
       "    </tr>\n",
       "    <tr>\n",
       "      <th>2</th>\n",
       "      <td>off_slips</td>\n",
       "      <td>0 days 00:03:59.987000064</td>\n",
       "    </tr>\n",
       "    <tr>\n",
       "      <th>3</th>\n",
       "      <td>on_slips</td>\n",
       "      <td>0 days 00:01:31.066000128</td>\n",
       "    </tr>\n",
       "    <tr>\n",
       "      <th>4</th>\n",
       "      <td>off_slips</td>\n",
       "      <td>0 days 00:04:13.957999872</td>\n",
       "    </tr>\n",
       "    <tr>\n",
       "      <th>...</th>\n",
       "      <td>...</td>\n",
       "      <td>...</td>\n",
       "    </tr>\n",
       "    <tr>\n",
       "      <th>104</th>\n",
       "      <td>off_slips</td>\n",
       "      <td>0 days 00:03:28.945000192</td>\n",
       "    </tr>\n",
       "    <tr>\n",
       "      <th>105</th>\n",
       "      <td>on_slips</td>\n",
       "      <td>0 days 00:01:34.045999872</td>\n",
       "    </tr>\n",
       "    <tr>\n",
       "      <th>106</th>\n",
       "      <td>off_slips</td>\n",
       "      <td>0 days 00:03:39.978000128</td>\n",
       "    </tr>\n",
       "    <tr>\n",
       "      <th>107</th>\n",
       "      <td>on_slips</td>\n",
       "      <td>0 days 00:02:03.008000</td>\n",
       "    </tr>\n",
       "    <tr>\n",
       "      <th>108</th>\n",
       "      <td>off_slips</td>\n",
       "      <td>0 days 00:01:57.997999872</td>\n",
       "    </tr>\n",
       "  </tbody>\n",
       "</table>\n",
       "<p>109 rows × 2 columns</p>\n",
       "</div>"
      ],
      "text/plain": [
       "    Annotation                  timediff\n",
       "0    off_slips 0 days 00:00:17.954999808\n",
       "1     on_slips    0 days 00:01:26.024000\n",
       "2    off_slips 0 days 00:03:59.987000064\n",
       "3     on_slips 0 days 00:01:31.066000128\n",
       "4    off_slips 0 days 00:04:13.957999872\n",
       "..         ...                       ...\n",
       "104  off_slips 0 days 00:03:28.945000192\n",
       "105   on_slips 0 days 00:01:34.045999872\n",
       "106  off_slips 0 days 00:03:39.978000128\n",
       "107   on_slips    0 days 00:02:03.008000\n",
       "108  off_slips 0 days 00:01:57.997999872\n",
       "\n",
       "[109 rows x 2 columns]"
      ]
     },
     "execution_count": 25,
     "metadata": {},
     "output_type": "execute_result"
    }
   ],
   "source": [
    "slip_to_slip_connection"
   ]
  },
  {
   "cell_type": "code",
   "execution_count": 26,
   "metadata": {},
   "outputs": [
    {
     "data": {
      "text/plain": [
       "timediff   0 days 00:01:59.348388882\n",
       "dtype: timedelta64[ns]"
      ]
     },
     "execution_count": 26,
     "metadata": {},
     "output_type": "execute_result"
    }
   ],
   "source": [
    "# the average from connection time\n",
    "stscon_mean = slip_to_slip_connection[slip_to_slip_connection['Annotation']=='on_slips'].mean()\n",
    "stscon_mean"
   ]
  },
  {
   "cell_type": "code",
   "execution_count": 27,
   "metadata": {},
   "outputs": [],
   "source": [
    "stscon_mean.to_csv('meanon.csv')"
   ]
  },
  {
   "cell_type": "code",
   "execution_count": 28,
   "metadata": {},
   "outputs": [
    {
     "data": {
      "text/html": [
       "<div>\n",
       "<style scoped>\n",
       "    .dataframe tbody tr th:only-of-type {\n",
       "        vertical-align: middle;\n",
       "    }\n",
       "\n",
       "    .dataframe tbody tr th {\n",
       "        vertical-align: top;\n",
       "    }\n",
       "\n",
       "    .dataframe thead th {\n",
       "        text-align: right;\n",
       "    }\n",
       "</style>\n",
       "<table border=\"1\" class=\"dataframe\">\n",
       "  <thead>\n",
       "    <tr style=\"text-align: right;\">\n",
       "      <th></th>\n",
       "      <th>timediff</th>\n",
       "    </tr>\n",
       "  </thead>\n",
       "  <tbody>\n",
       "    <tr>\n",
       "      <th>count</th>\n",
       "      <td>54</td>\n",
       "    </tr>\n",
       "    <tr>\n",
       "      <th>mean</th>\n",
       "      <td>0 days 00:01:59.348388882</td>\n",
       "    </tr>\n",
       "    <tr>\n",
       "      <th>std</th>\n",
       "      <td>0 days 00:01:08.894753649</td>\n",
       "    </tr>\n",
       "    <tr>\n",
       "      <th>min</th>\n",
       "      <td>0 days 00:01:26.024000</td>\n",
       "    </tr>\n",
       "    <tr>\n",
       "      <th>25%</th>\n",
       "      <td>0 days 00:01:39.968249984</td>\n",
       "    </tr>\n",
       "    <tr>\n",
       "      <th>50%</th>\n",
       "      <td>0 days 00:01:43.546499968</td>\n",
       "    </tr>\n",
       "    <tr>\n",
       "      <th>75%</th>\n",
       "      <td>0 days 00:01:53.753249984</td>\n",
       "    </tr>\n",
       "    <tr>\n",
       "      <th>max</th>\n",
       "      <td>0 days 00:09:37.049999872</td>\n",
       "    </tr>\n",
       "  </tbody>\n",
       "</table>\n",
       "</div>"
      ],
      "text/plain": [
       "                        timediff\n",
       "count                         54\n",
       "mean   0 days 00:01:59.348388882\n",
       "std    0 days 00:01:08.894753649\n",
       "min       0 days 00:01:26.024000\n",
       "25%    0 days 00:01:39.968249984\n",
       "50%    0 days 00:01:43.546499968\n",
       "75%    0 days 00:01:53.753249984\n",
       "max    0 days 00:09:37.049999872"
      ]
     },
     "execution_count": 28,
     "metadata": {},
     "output_type": "execute_result"
    }
   ],
   "source": [
    "# stats from connection time\n",
    "stscon_desc = slip_to_slip_connection[slip_to_slip_connection['Annotation']=='on_slips'].describe()\n",
    "stscon_desc"
   ]
  },
  {
   "cell_type": "code",
   "execution_count": 79,
   "metadata": {},
   "outputs": [],
   "source": [
    "stscon_desc.to_csv('descon.csv')"
   ]
  },
  {
   "cell_type": "markdown",
   "metadata": {},
   "source": [
    "The maximum time between 2 and 3 hour. Took 9 minutes and 37 seconds."
   ]
  },
  {
   "cell_type": "code",
   "execution_count": 30,
   "metadata": {},
   "outputs": [
    {
     "data": {
      "text/plain": [
       "timediff   0 days 00:04:10.053963641\n",
       "dtype: timedelta64[ns]"
      ]
     },
     "execution_count": 30,
     "metadata": {},
     "output_type": "execute_result"
    }
   ],
   "source": [
    "stscoff_mean = slip_to_slip_connection[slip_to_slip_connection['Annotation']=='off_slips'].mean()\n",
    "stscoff_mean "
   ]
  },
  {
   "cell_type": "code",
   "execution_count": 31,
   "metadata": {},
   "outputs": [],
   "source": [
    "stscoff_mean.to_csv('meanoff.csv')"
   ]
  },
  {
   "cell_type": "code",
   "execution_count": 32,
   "metadata": {},
   "outputs": [
    {
     "data": {
      "text/html": [
       "<div>\n",
       "<style scoped>\n",
       "    .dataframe tbody tr th:only-of-type {\n",
       "        vertical-align: middle;\n",
       "    }\n",
       "\n",
       "    .dataframe tbody tr th {\n",
       "        vertical-align: top;\n",
       "    }\n",
       "\n",
       "    .dataframe thead th {\n",
       "        text-align: right;\n",
       "    }\n",
       "</style>\n",
       "<table border=\"1\" class=\"dataframe\">\n",
       "  <thead>\n",
       "    <tr style=\"text-align: right;\">\n",
       "      <th></th>\n",
       "      <th>timediff</th>\n",
       "    </tr>\n",
       "  </thead>\n",
       "  <tbody>\n",
       "    <tr>\n",
       "      <th>count</th>\n",
       "      <td>55</td>\n",
       "    </tr>\n",
       "    <tr>\n",
       "      <th>mean</th>\n",
       "      <td>0 days 00:04:10.053963641</td>\n",
       "    </tr>\n",
       "    <tr>\n",
       "      <th>std</th>\n",
       "      <td>0 days 00:03:20.299865303</td>\n",
       "    </tr>\n",
       "    <tr>\n",
       "      <th>min</th>\n",
       "      <td>0 days 00:00:17.954999808</td>\n",
       "    </tr>\n",
       "    <tr>\n",
       "      <th>25%</th>\n",
       "      <td>0 days 00:03:36.531000064</td>\n",
       "    </tr>\n",
       "    <tr>\n",
       "      <th>50%</th>\n",
       "      <td>0 days 00:03:41.008999936</td>\n",
       "    </tr>\n",
       "    <tr>\n",
       "      <th>75%</th>\n",
       "      <td>0 days 00:03:50.714499968</td>\n",
       "    </tr>\n",
       "    <tr>\n",
       "      <th>max</th>\n",
       "      <td>0 days 00:27:54.967000064</td>\n",
       "    </tr>\n",
       "  </tbody>\n",
       "</table>\n",
       "</div>"
      ],
      "text/plain": [
       "                        timediff\n",
       "count                         55\n",
       "mean   0 days 00:04:10.053963641\n",
       "std    0 days 00:03:20.299865303\n",
       "min    0 days 00:00:17.954999808\n",
       "25%    0 days 00:03:36.531000064\n",
       "50%    0 days 00:03:41.008999936\n",
       "75%    0 days 00:03:50.714499968\n",
       "max    0 days 00:27:54.967000064"
      ]
     },
     "execution_count": 32,
     "metadata": {},
     "output_type": "execute_result"
    }
   ],
   "source": [
    "stscoff_desc  = slip_to_slip_connection[slip_to_slip_connection['Annotation']=='off_slips'].describe()\n",
    "stscoff_desc"
   ]
  },
  {
   "cell_type": "code",
   "execution_count": 33,
   "metadata": {},
   "outputs": [],
   "source": [
    "stscoff_desc.to_csv('descoff.csv')"
   ]
  },
  {
   "cell_type": "markdown",
   "metadata": {},
   "source": [
    "The maximum time between 2 and 3 hour. Took 27 minutes and 54 seconds."
   ]
  },
  {
   "cell_type": "code",
   "execution_count": 34,
   "metadata": {},
   "outputs": [],
   "source": [
    "# function to convert string to numeric \n",
    "# off_slips will be 0 and on_slips will be 1\n",
    "def convert(x):\n",
    "    if x == 'off_slips':\n",
    "        x =  0\n",
    "    elif x == 'on_slips':\n",
    "        x = 1\n",
    "    return x\n",
    "\n",
    "new_df['Annotation'] = new_df.Annotation.map(lambda x : convert(x))"
   ]
  },
  {
   "cell_type": "code",
   "execution_count": 35,
   "metadata": {},
   "outputs": [
    {
     "data": {
      "text/html": [
       "<div>\n",
       "<style scoped>\n",
       "    .dataframe tbody tr th:only-of-type {\n",
       "        vertical-align: middle;\n",
       "    }\n",
       "\n",
       "    .dataframe tbody tr th {\n",
       "        vertical-align: top;\n",
       "    }\n",
       "\n",
       "    .dataframe thead th {\n",
       "        text-align: right;\n",
       "    }\n",
       "</style>\n",
       "<table border=\"1\" class=\"dataframe\">\n",
       "  <thead>\n",
       "    <tr style=\"text-align: right;\">\n",
       "      <th></th>\n",
       "      <th>BDEP</th>\n",
       "      <th>TPO</th>\n",
       "      <th>HL</th>\n",
       "      <th>BHT</th>\n",
       "      <th>RPM</th>\n",
       "      <th>TOR</th>\n",
       "      <th>DEPT</th>\n",
       "      <th>WOB</th>\n",
       "      <th>Annotation</th>\n",
       "    </tr>\n",
       "  </thead>\n",
       "  <tbody>\n",
       "    <tr>\n",
       "      <th>BDEP</th>\n",
       "      <td>1.000000</td>\n",
       "      <td>0.204279</td>\n",
       "      <td>0.203356</td>\n",
       "      <td>0.035121</td>\n",
       "      <td>NaN</td>\n",
       "      <td>NaN</td>\n",
       "      <td>NaN</td>\n",
       "      <td>0.066479</td>\n",
       "      <td>-0.011132</td>\n",
       "    </tr>\n",
       "    <tr>\n",
       "      <th>TPO</th>\n",
       "      <td>0.204279</td>\n",
       "      <td>1.000000</td>\n",
       "      <td>0.035313</td>\n",
       "      <td>-0.009674</td>\n",
       "      <td>NaN</td>\n",
       "      <td>NaN</td>\n",
       "      <td>NaN</td>\n",
       "      <td>0.021866</td>\n",
       "      <td>0.008211</td>\n",
       "    </tr>\n",
       "    <tr>\n",
       "      <th>HL</th>\n",
       "      <td>0.203356</td>\n",
       "      <td>0.035313</td>\n",
       "      <td>1.000000</td>\n",
       "      <td>0.290438</td>\n",
       "      <td>NaN</td>\n",
       "      <td>NaN</td>\n",
       "      <td>NaN</td>\n",
       "      <td>-0.962229</td>\n",
       "      <td>-0.960526</td>\n",
       "    </tr>\n",
       "    <tr>\n",
       "      <th>BHT</th>\n",
       "      <td>0.035121</td>\n",
       "      <td>-0.009674</td>\n",
       "      <td>0.290438</td>\n",
       "      <td>1.000000</td>\n",
       "      <td>NaN</td>\n",
       "      <td>NaN</td>\n",
       "      <td>NaN</td>\n",
       "      <td>-0.285250</td>\n",
       "      <td>-0.303000</td>\n",
       "    </tr>\n",
       "    <tr>\n",
       "      <th>RPM</th>\n",
       "      <td>NaN</td>\n",
       "      <td>NaN</td>\n",
       "      <td>NaN</td>\n",
       "      <td>NaN</td>\n",
       "      <td>NaN</td>\n",
       "      <td>NaN</td>\n",
       "      <td>NaN</td>\n",
       "      <td>NaN</td>\n",
       "      <td>NaN</td>\n",
       "    </tr>\n",
       "    <tr>\n",
       "      <th>TOR</th>\n",
       "      <td>NaN</td>\n",
       "      <td>NaN</td>\n",
       "      <td>NaN</td>\n",
       "      <td>NaN</td>\n",
       "      <td>NaN</td>\n",
       "      <td>NaN</td>\n",
       "      <td>NaN</td>\n",
       "      <td>NaN</td>\n",
       "      <td>NaN</td>\n",
       "    </tr>\n",
       "    <tr>\n",
       "      <th>DEPT</th>\n",
       "      <td>NaN</td>\n",
       "      <td>NaN</td>\n",
       "      <td>NaN</td>\n",
       "      <td>NaN</td>\n",
       "      <td>NaN</td>\n",
       "      <td>NaN</td>\n",
       "      <td>NaN</td>\n",
       "      <td>NaN</td>\n",
       "      <td>NaN</td>\n",
       "    </tr>\n",
       "    <tr>\n",
       "      <th>WOB</th>\n",
       "      <td>0.066479</td>\n",
       "      <td>0.021866</td>\n",
       "      <td>-0.962229</td>\n",
       "      <td>-0.285250</td>\n",
       "      <td>NaN</td>\n",
       "      <td>NaN</td>\n",
       "      <td>NaN</td>\n",
       "      <td>1.000000</td>\n",
       "      <td>0.972458</td>\n",
       "    </tr>\n",
       "    <tr>\n",
       "      <th>Annotation</th>\n",
       "      <td>-0.011132</td>\n",
       "      <td>0.008211</td>\n",
       "      <td>-0.960526</td>\n",
       "      <td>-0.303000</td>\n",
       "      <td>NaN</td>\n",
       "      <td>NaN</td>\n",
       "      <td>NaN</td>\n",
       "      <td>0.972458</td>\n",
       "      <td>1.000000</td>\n",
       "    </tr>\n",
       "  </tbody>\n",
       "</table>\n",
       "</div>"
      ],
      "text/plain": [
       "                BDEP       TPO        HL       BHT  RPM  TOR  DEPT       WOB  \\\n",
       "BDEP        1.000000  0.204279  0.203356  0.035121  NaN  NaN   NaN  0.066479   \n",
       "TPO         0.204279  1.000000  0.035313 -0.009674  NaN  NaN   NaN  0.021866   \n",
       "HL          0.203356  0.035313  1.000000  0.290438  NaN  NaN   NaN -0.962229   \n",
       "BHT         0.035121 -0.009674  0.290438  1.000000  NaN  NaN   NaN -0.285250   \n",
       "RPM              NaN       NaN       NaN       NaN  NaN  NaN   NaN       NaN   \n",
       "TOR              NaN       NaN       NaN       NaN  NaN  NaN   NaN       NaN   \n",
       "DEPT             NaN       NaN       NaN       NaN  NaN  NaN   NaN       NaN   \n",
       "WOB         0.066479  0.021866 -0.962229 -0.285250  NaN  NaN   NaN  1.000000   \n",
       "Annotation -0.011132  0.008211 -0.960526 -0.303000  NaN  NaN   NaN  0.972458   \n",
       "\n",
       "            Annotation  \n",
       "BDEP         -0.011132  \n",
       "TPO           0.008211  \n",
       "HL           -0.960526  \n",
       "BHT          -0.303000  \n",
       "RPM                NaN  \n",
       "TOR                NaN  \n",
       "DEPT               NaN  \n",
       "WOB           0.972458  \n",
       "Annotation    1.000000  "
      ]
     },
     "execution_count": 35,
     "metadata": {},
     "output_type": "execute_result"
    }
   ],
   "source": [
    "# variables correlation\n",
    "new_df.corr()"
   ]
  },
  {
   "cell_type": "code",
   "execution_count": 36,
   "metadata": {},
   "outputs": [
    {
     "data": {
      "image/png": "[encoded data removed]",
      "text/plain": [
       "<Figure size 1440x360 with 2 Axes>"
      ]
     },
     "metadata": {
      "needs_background": "light"
     },
     "output_type": "display_data"
    }
   ],
   "source": [
    "# visualizing variables correlation\n",
    "correlations = new_df.corr()\n",
    "col = new_df.columns\n",
    "\n",
    "fig = plt.figure(figsize=(20,5))\n",
    "ax = fig.add_subplot(111)\n",
    "cax = ax.matshow(correlations, vmin = -1, vmax = 1)\n",
    "fig.colorbar(cax)\n",
    "ticks = np.arange(0,11,1)\n",
    "ax.set_xticks(ticks)\n",
    "ax.set_yticks(ticks)\n",
    "ax.set_xticklabels(col)\n",
    "ax.set_yticklabels(col)\n",
    "plt.show()"
   ]
  },
  {
   "cell_type": "markdown",
   "metadata": {},
   "source": [
    "RPM, TOR AND DEPT have no correlations with the others."
   ]
  },
  {
   "cell_type": "code",
   "execution_count": 37,
   "metadata": {},
   "outputs": [],
   "source": [
    "# drop NAs only from the Annotation \n",
    "new_df.dropna(subset=['Annotation'],inplace=True)"
   ]
  },
  {
   "cell_type": "code",
   "execution_count": 38,
   "metadata": {},
   "outputs": [
    {
     "data": {
      "text/plain": [
       "BDEP           0\n",
       "TPO           13\n",
       "HL             2\n",
       "BHT           15\n",
       "RPM           26\n",
       "TOR           17\n",
       "DEPT          22\n",
       "WOB           22\n",
       "Annotation     0\n",
       "time           0\n",
       "timediff       0\n",
       "dtype: int64"
      ]
     },
     "execution_count": 38,
     "metadata": {},
     "output_type": "execute_result"
    }
   ],
   "source": [
    "new_df.isna().sum()"
   ]
  },
  {
   "cell_type": "markdown",
   "metadata": {},
   "source": [
    "I will try to fill the values.TPO,RPM and TOR with 0; HL and WOB with the mean; DEPT with its constant value. "
   ]
  },
  {
   "cell_type": "code",
   "execution_count": 39,
   "metadata": {},
   "outputs": [],
   "source": [
    "df_with_nafill = new_df.copy()"
   ]
  },
  {
   "cell_type": "code",
   "execution_count": 40,
   "metadata": {},
   "outputs": [],
   "source": [
    "# filling the missing values\n",
    "df_with_nafill.fillna({'TPO':0,'RPM':0,'TOR':0,'HL':322.494967,'WOB':109.28,'DEPT':5795.817,'BHT':20.995},inplace=True)"
   ]
  },
  {
   "cell_type": "code",
   "execution_count": 41,
   "metadata": {},
   "outputs": [
    {
     "data": {
      "text/plain": [
       "BDEP          0\n",
       "TPO           0\n",
       "HL            0\n",
       "BHT           0\n",
       "RPM           0\n",
       "TOR           0\n",
       "DEPT          0\n",
       "WOB           0\n",
       "Annotation    0\n",
       "time          0\n",
       "timediff      0\n",
       "dtype: int64"
      ]
     },
     "execution_count": 41,
     "metadata": {},
     "output_type": "execute_result"
    }
   ],
   "source": [
    "# no missing values\n",
    "df_with_nafill.isna().sum()"
   ]
  },
  {
   "cell_type": "code",
   "execution_count": 42,
   "metadata": {},
   "outputs": [
    {
     "data": {
      "text/html": [
       "<div>\n",
       "<style scoped>\n",
       "    .dataframe tbody tr th:only-of-type {\n",
       "        vertical-align: middle;\n",
       "    }\n",
       "\n",
       "    .dataframe tbody tr th {\n",
       "        vertical-align: top;\n",
       "    }\n",
       "\n",
       "    .dataframe thead th {\n",
       "        text-align: right;\n",
       "    }\n",
       "</style>\n",
       "<table border=\"1\" class=\"dataframe\">\n",
       "  <thead>\n",
       "    <tr style=\"text-align: right;\">\n",
       "      <th></th>\n",
       "      <th>BDEP</th>\n",
       "      <th>TPO</th>\n",
       "      <th>HL</th>\n",
       "      <th>BHT</th>\n",
       "      <th>RPM</th>\n",
       "      <th>TOR</th>\n",
       "      <th>DEPT</th>\n",
       "      <th>WOB</th>\n",
       "      <th>Annotation</th>\n",
       "      <th>time</th>\n",
       "      <th>timediff</th>\n",
       "    </tr>\n",
       "  </thead>\n",
       "  <tbody>\n",
       "    <tr>\n",
       "      <th>2020-12-05 01:14:22.361999872</th>\n",
       "      <td>5042.509</td>\n",
       "      <td>23.511311</td>\n",
       "      <td>492.985987</td>\n",
       "      <td>39.519</td>\n",
       "      <td>0.0</td>\n",
       "      <td>0.0</td>\n",
       "      <td>5795.817</td>\n",
       "      <td>42.90</td>\n",
       "      <td>0.0</td>\n",
       "      <td>2020-12-05 01:14:22.361999872</td>\n",
       "      <td>0 days 00:00:00.506999808</td>\n",
       "    </tr>\n",
       "    <tr>\n",
       "      <th>2020-12-05 01:14:22.880999936</th>\n",
       "      <td>5042.509</td>\n",
       "      <td>24.567999</td>\n",
       "      <td>490.615987</td>\n",
       "      <td>39.519</td>\n",
       "      <td>0.0</td>\n",
       "      <td>0.0</td>\n",
       "      <td>5795.817</td>\n",
       "      <td>45.27</td>\n",
       "      <td>0.0</td>\n",
       "      <td>2020-12-05 01:14:22.880999936</td>\n",
       "      <td>0 days 00:00:00.519000064</td>\n",
       "    </tr>\n",
       "    <tr>\n",
       "      <th>2020-12-05 01:14:23.388999936</th>\n",
       "      <td>5042.509</td>\n",
       "      <td>26.153032</td>\n",
       "      <td>489.895987</td>\n",
       "      <td>39.519</td>\n",
       "      <td>0.0</td>\n",
       "      <td>0.0</td>\n",
       "      <td>5795.817</td>\n",
       "      <td>45.99</td>\n",
       "      <td>0.0</td>\n",
       "      <td>2020-12-05 01:14:23.388999936</td>\n",
       "      <td>0 days 00:00:00.508000</td>\n",
       "    </tr>\n",
       "    <tr>\n",
       "      <th>2020-12-05 01:14:23.796000000</th>\n",
       "      <td>5042.509</td>\n",
       "      <td>14.001118</td>\n",
       "      <td>489.717987</td>\n",
       "      <td>39.519</td>\n",
       "      <td>0.0</td>\n",
       "      <td>0.0</td>\n",
       "      <td>5795.817</td>\n",
       "      <td>46.17</td>\n",
       "      <td>0.0</td>\n",
       "      <td>2020-12-05 01:14:23.796000000</td>\n",
       "      <td>0 days 00:00:00.407000064</td>\n",
       "    </tr>\n",
       "    <tr>\n",
       "      <th>2020-12-05 01:14:24.305999872</th>\n",
       "      <td>5042.509</td>\n",
       "      <td>22.190451</td>\n",
       "      <td>491.635987</td>\n",
       "      <td>39.519</td>\n",
       "      <td>0.0</td>\n",
       "      <td>0.0</td>\n",
       "      <td>5795.817</td>\n",
       "      <td>44.25</td>\n",
       "      <td>0.0</td>\n",
       "      <td>2020-12-05 01:14:24.305999872</td>\n",
       "      <td>0 days 00:00:00.509999872</td>\n",
       "    </tr>\n",
       "    <tr>\n",
       "      <th>...</th>\n",
       "      <td>...</td>\n",
       "      <td>...</td>\n",
       "      <td>...</td>\n",
       "      <td>...</td>\n",
       "      <td>...</td>\n",
       "      <td>...</td>\n",
       "      <td>...</td>\n",
       "      <td>...</td>\n",
       "      <td>...</td>\n",
       "      <td>...</td>\n",
       "      <td>...</td>\n",
       "    </tr>\n",
       "    <tr>\n",
       "      <th>2020-12-05 06:50:57.604000000</th>\n",
       "      <td>3055.453</td>\n",
       "      <td>0.000000</td>\n",
       "      <td>358.541991</td>\n",
       "      <td>24.768</td>\n",
       "      <td>0.0</td>\n",
       "      <td>0.0</td>\n",
       "      <td>5795.817</td>\n",
       "      <td>2.46</td>\n",
       "      <td>0.0</td>\n",
       "      <td>2020-12-05 06:50:57.604000000</td>\n",
       "      <td>0 days 00:00:00.508000</td>\n",
       "    </tr>\n",
       "    <tr>\n",
       "      <th>2020-12-05 06:50:58.112000000</th>\n",
       "      <td>3055.453</td>\n",
       "      <td>0.000000</td>\n",
       "      <td>358.595991</td>\n",
       "      <td>24.856</td>\n",
       "      <td>0.0</td>\n",
       "      <td>0.0</td>\n",
       "      <td>5795.817</td>\n",
       "      <td>2.40</td>\n",
       "      <td>0.0</td>\n",
       "      <td>2020-12-05 06:50:58.112000000</td>\n",
       "      <td>0 days 00:00:00.508000</td>\n",
       "    </tr>\n",
       "    <tr>\n",
       "      <th>2020-12-05 06:50:58.620000000</th>\n",
       "      <td>3055.453</td>\n",
       "      <td>0.000000</td>\n",
       "      <td>358.605991</td>\n",
       "      <td>24.940</td>\n",
       "      <td>0.0</td>\n",
       "      <td>0.0</td>\n",
       "      <td>5795.817</td>\n",
       "      <td>2.39</td>\n",
       "      <td>0.0</td>\n",
       "      <td>2020-12-05 06:50:58.620000000</td>\n",
       "      <td>0 days 00:00:00.508000</td>\n",
       "    </tr>\n",
       "    <tr>\n",
       "      <th>2020-12-05 06:50:59.128000000</th>\n",
       "      <td>3055.281</td>\n",
       "      <td>0.000000</td>\n",
       "      <td>358.411991</td>\n",
       "      <td>25.038</td>\n",
       "      <td>0.0</td>\n",
       "      <td>0.0</td>\n",
       "      <td>5795.817</td>\n",
       "      <td>2.59</td>\n",
       "      <td>0.0</td>\n",
       "      <td>2020-12-05 06:50:59.128000000</td>\n",
       "      <td>0 days 00:00:00.508000</td>\n",
       "    </tr>\n",
       "    <tr>\n",
       "      <th>2020-12-05 06:50:59.636000000</th>\n",
       "      <td>3055.281</td>\n",
       "      <td>0.000000</td>\n",
       "      <td>357.757991</td>\n",
       "      <td>25.123</td>\n",
       "      <td>0.0</td>\n",
       "      <td>0.0</td>\n",
       "      <td>5795.817</td>\n",
       "      <td>3.24</td>\n",
       "      <td>0.0</td>\n",
       "      <td>2020-12-05 06:50:59.636000000</td>\n",
       "      <td>0 days 00:00:00.508000</td>\n",
       "    </tr>\n",
       "  </tbody>\n",
       "</table>\n",
       "<p>40389 rows × 11 columns</p>\n",
       "</div>"
      ],
      "text/plain": [
       "                                   BDEP        TPO          HL     BHT  RPM  \\\n",
       "2020-12-05 01:14:22.361999872  5042.509  23.511311  492.985987  39.519  0.0   \n",
       "2020-12-05 01:14:22.880999936  5042.509  24.567999  490.615987  39.519  0.0   \n",
       "2020-12-05 01:14:23.388999936  5042.509  26.153032  489.895987  39.519  0.0   \n",
       "2020-12-05 01:14:23.796000000  5042.509  14.001118  489.717987  39.519  0.0   \n",
       "2020-12-05 01:14:24.305999872  5042.509  22.190451  491.635987  39.519  0.0   \n",
       "...                                 ...        ...         ...     ...  ...   \n",
       "2020-12-05 06:50:57.604000000  3055.453   0.000000  358.541991  24.768  0.0   \n",
       "2020-12-05 06:50:58.112000000  3055.453   0.000000  358.595991  24.856  0.0   \n",
       "2020-12-05 06:50:58.620000000  3055.453   0.000000  358.605991  24.940  0.0   \n",
       "2020-12-05 06:50:59.128000000  3055.281   0.000000  358.411991  25.038  0.0   \n",
       "2020-12-05 06:50:59.636000000  3055.281   0.000000  357.757991  25.123  0.0   \n",
       "\n",
       "                               TOR      DEPT    WOB  Annotation  \\\n",
       "2020-12-05 01:14:22.361999872  0.0  5795.817  42.90         0.0   \n",
       "2020-12-05 01:14:22.880999936  0.0  5795.817  45.27         0.0   \n",
       "2020-12-05 01:14:23.388999936  0.0  5795.817  45.99         0.0   \n",
       "2020-12-05 01:14:23.796000000  0.0  5795.817  46.17         0.0   \n",
       "2020-12-05 01:14:24.305999872  0.0  5795.817  44.25         0.0   \n",
       "...                            ...       ...    ...         ...   \n",
       "2020-12-05 06:50:57.604000000  0.0  5795.817   2.46         0.0   \n",
       "2020-12-05 06:50:58.112000000  0.0  5795.817   2.40         0.0   \n",
       "2020-12-05 06:50:58.620000000  0.0  5795.817   2.39         0.0   \n",
       "2020-12-05 06:50:59.128000000  0.0  5795.817   2.59         0.0   \n",
       "2020-12-05 06:50:59.636000000  0.0  5795.817   3.24         0.0   \n",
       "\n",
       "                                                       time  \\\n",
       "2020-12-05 01:14:22.361999872 2020-12-05 01:14:22.361999872   \n",
       "2020-12-05 01:14:22.880999936 2020-12-05 01:14:22.880999936   \n",
       "2020-12-05 01:14:23.388999936 2020-12-05 01:14:23.388999936   \n",
       "2020-12-05 01:14:23.796000000 2020-12-05 01:14:23.796000000   \n",
       "2020-12-05 01:14:24.305999872 2020-12-05 01:14:24.305999872   \n",
       "...                                                     ...   \n",
       "2020-12-05 06:50:57.604000000 2020-12-05 06:50:57.604000000   \n",
       "2020-12-05 06:50:58.112000000 2020-12-05 06:50:58.112000000   \n",
       "2020-12-05 06:50:58.620000000 2020-12-05 06:50:58.620000000   \n",
       "2020-12-05 06:50:59.128000000 2020-12-05 06:50:59.128000000   \n",
       "2020-12-05 06:50:59.636000000 2020-12-05 06:50:59.636000000   \n",
       "\n",
       "                                               timediff  \n",
       "2020-12-05 01:14:22.361999872 0 days 00:00:00.506999808  \n",
       "2020-12-05 01:14:22.880999936 0 days 00:00:00.519000064  \n",
       "2020-12-05 01:14:23.388999936    0 days 00:00:00.508000  \n",
       "2020-12-05 01:14:23.796000000 0 days 00:00:00.407000064  \n",
       "2020-12-05 01:14:24.305999872 0 days 00:00:00.509999872  \n",
       "...                                                 ...  \n",
       "2020-12-05 06:50:57.604000000    0 days 00:00:00.508000  \n",
       "2020-12-05 06:50:58.112000000    0 days 00:00:00.508000  \n",
       "2020-12-05 06:50:58.620000000    0 days 00:00:00.508000  \n",
       "2020-12-05 06:50:59.128000000    0 days 00:00:00.508000  \n",
       "2020-12-05 06:50:59.636000000    0 days 00:00:00.508000  \n",
       "\n",
       "[40389 rows x 11 columns]"
      ]
     },
     "execution_count": 42,
     "metadata": {},
     "output_type": "execute_result"
    }
   ],
   "source": [
    "df_with_nafill"
   ]
  },
  {
   "cell_type": "code",
   "execution_count": 43,
   "metadata": {},
   "outputs": [],
   "source": [
    "# separating the target and features. I will drop date columns\n",
    "features_nafill = df_with_nafill.iloc[:,0:8]\n",
    "target_nafill = df_with_nafill.iloc[:,8]"
   ]
  },
  {
   "cell_type": "code",
   "execution_count": 44,
   "metadata": {},
   "outputs": [
    {
     "data": {
      "text/html": [
       "<div>\n",
       "<style scoped>\n",
       "    .dataframe tbody tr th:only-of-type {\n",
       "        vertical-align: middle;\n",
       "    }\n",
       "\n",
       "    .dataframe tbody tr th {\n",
       "        vertical-align: top;\n",
       "    }\n",
       "\n",
       "    .dataframe thead th {\n",
       "        text-align: right;\n",
       "    }\n",
       "</style>\n",
       "<table border=\"1\" class=\"dataframe\">\n",
       "  <thead>\n",
       "    <tr style=\"text-align: right;\">\n",
       "      <th></th>\n",
       "      <th>BDEP</th>\n",
       "      <th>TPO</th>\n",
       "      <th>HL</th>\n",
       "      <th>BHT</th>\n",
       "      <th>RPM</th>\n",
       "      <th>TOR</th>\n",
       "      <th>DEPT</th>\n",
       "      <th>WOB</th>\n",
       "    </tr>\n",
       "  </thead>\n",
       "  <tbody>\n",
       "    <tr>\n",
       "      <th>2020-12-05 01:14:22.361999872</th>\n",
       "      <td>5042.509</td>\n",
       "      <td>23.511311</td>\n",
       "      <td>492.985987</td>\n",
       "      <td>39.519</td>\n",
       "      <td>0.0</td>\n",
       "      <td>0.0</td>\n",
       "      <td>5795.817</td>\n",
       "      <td>42.90</td>\n",
       "    </tr>\n",
       "    <tr>\n",
       "      <th>2020-12-05 01:14:22.880999936</th>\n",
       "      <td>5042.509</td>\n",
       "      <td>24.567999</td>\n",
       "      <td>490.615987</td>\n",
       "      <td>39.519</td>\n",
       "      <td>0.0</td>\n",
       "      <td>0.0</td>\n",
       "      <td>5795.817</td>\n",
       "      <td>45.27</td>\n",
       "    </tr>\n",
       "    <tr>\n",
       "      <th>2020-12-05 01:14:23.388999936</th>\n",
       "      <td>5042.509</td>\n",
       "      <td>26.153032</td>\n",
       "      <td>489.895987</td>\n",
       "      <td>39.519</td>\n",
       "      <td>0.0</td>\n",
       "      <td>0.0</td>\n",
       "      <td>5795.817</td>\n",
       "      <td>45.99</td>\n",
       "    </tr>\n",
       "    <tr>\n",
       "      <th>2020-12-05 01:14:23.796000000</th>\n",
       "      <td>5042.509</td>\n",
       "      <td>14.001118</td>\n",
       "      <td>489.717987</td>\n",
       "      <td>39.519</td>\n",
       "      <td>0.0</td>\n",
       "      <td>0.0</td>\n",
       "      <td>5795.817</td>\n",
       "      <td>46.17</td>\n",
       "    </tr>\n",
       "    <tr>\n",
       "      <th>2020-12-05 01:14:24.305999872</th>\n",
       "      <td>5042.509</td>\n",
       "      <td>22.190451</td>\n",
       "      <td>491.635987</td>\n",
       "      <td>39.519</td>\n",
       "      <td>0.0</td>\n",
       "      <td>0.0</td>\n",
       "      <td>5795.817</td>\n",
       "      <td>44.25</td>\n",
       "    </tr>\n",
       "    <tr>\n",
       "      <th>...</th>\n",
       "      <td>...</td>\n",
       "      <td>...</td>\n",
       "      <td>...</td>\n",
       "      <td>...</td>\n",
       "      <td>...</td>\n",
       "      <td>...</td>\n",
       "      <td>...</td>\n",
       "      <td>...</td>\n",
       "    </tr>\n",
       "    <tr>\n",
       "      <th>2020-12-05 06:50:57.604000000</th>\n",
       "      <td>3055.453</td>\n",
       "      <td>0.000000</td>\n",
       "      <td>358.541991</td>\n",
       "      <td>24.768</td>\n",
       "      <td>0.0</td>\n",
       "      <td>0.0</td>\n",
       "      <td>5795.817</td>\n",
       "      <td>2.46</td>\n",
       "    </tr>\n",
       "    <tr>\n",
       "      <th>2020-12-05 06:50:58.112000000</th>\n",
       "      <td>3055.453</td>\n",
       "      <td>0.000000</td>\n",
       "      <td>358.595991</td>\n",
       "      <td>24.856</td>\n",
       "      <td>0.0</td>\n",
       "      <td>0.0</td>\n",
       "      <td>5795.817</td>\n",
       "      <td>2.40</td>\n",
       "    </tr>\n",
       "    <tr>\n",
       "      <th>2020-12-05 06:50:58.620000000</th>\n",
       "      <td>3055.453</td>\n",
       "      <td>0.000000</td>\n",
       "      <td>358.605991</td>\n",
       "      <td>24.940</td>\n",
       "      <td>0.0</td>\n",
       "      <td>0.0</td>\n",
       "      <td>5795.817</td>\n",
       "      <td>2.39</td>\n",
       "    </tr>\n",
       "    <tr>\n",
       "      <th>2020-12-05 06:50:59.128000000</th>\n",
       "      <td>3055.281</td>\n",
       "      <td>0.000000</td>\n",
       "      <td>358.411991</td>\n",
       "      <td>25.038</td>\n",
       "      <td>0.0</td>\n",
       "      <td>0.0</td>\n",
       "      <td>5795.817</td>\n",
       "      <td>2.59</td>\n",
       "    </tr>\n",
       "    <tr>\n",
       "      <th>2020-12-05 06:50:59.636000000</th>\n",
       "      <td>3055.281</td>\n",
       "      <td>0.000000</td>\n",
       "      <td>357.757991</td>\n",
       "      <td>25.123</td>\n",
       "      <td>0.0</td>\n",
       "      <td>0.0</td>\n",
       "      <td>5795.817</td>\n",
       "      <td>3.24</td>\n",
       "    </tr>\n",
       "  </tbody>\n",
       "</table>\n",
       "<p>40389 rows × 8 columns</p>\n",
       "</div>"
      ],
      "text/plain": [
       "                                   BDEP        TPO          HL     BHT  RPM  \\\n",
       "2020-12-05 01:14:22.361999872  5042.509  23.511311  492.985987  39.519  0.0   \n",
       "2020-12-05 01:14:22.880999936  5042.509  24.567999  490.615987  39.519  0.0   \n",
       "2020-12-05 01:14:23.388999936  5042.509  26.153032  489.895987  39.519  0.0   \n",
       "2020-12-05 01:14:23.796000000  5042.509  14.001118  489.717987  39.519  0.0   \n",
       "2020-12-05 01:14:24.305999872  5042.509  22.190451  491.635987  39.519  0.0   \n",
       "...                                 ...        ...         ...     ...  ...   \n",
       "2020-12-05 06:50:57.604000000  3055.453   0.000000  358.541991  24.768  0.0   \n",
       "2020-12-05 06:50:58.112000000  3055.453   0.000000  358.595991  24.856  0.0   \n",
       "2020-12-05 06:50:58.620000000  3055.453   0.000000  358.605991  24.940  0.0   \n",
       "2020-12-05 06:50:59.128000000  3055.281   0.000000  358.411991  25.038  0.0   \n",
       "2020-12-05 06:50:59.636000000  3055.281   0.000000  357.757991  25.123  0.0   \n",
       "\n",
       "                               TOR      DEPT    WOB  \n",
       "2020-12-05 01:14:22.361999872  0.0  5795.817  42.90  \n",
       "2020-12-05 01:14:22.880999936  0.0  5795.817  45.27  \n",
       "2020-12-05 01:14:23.388999936  0.0  5795.817  45.99  \n",
       "2020-12-05 01:14:23.796000000  0.0  5795.817  46.17  \n",
       "2020-12-05 01:14:24.305999872  0.0  5795.817  44.25  \n",
       "...                            ...       ...    ...  \n",
       "2020-12-05 06:50:57.604000000  0.0  5795.817   2.46  \n",
       "2020-12-05 06:50:58.112000000  0.0  5795.817   2.40  \n",
       "2020-12-05 06:50:58.620000000  0.0  5795.817   2.39  \n",
       "2020-12-05 06:50:59.128000000  0.0  5795.817   2.59  \n",
       "2020-12-05 06:50:59.636000000  0.0  5795.817   3.24  \n",
       "\n",
       "[40389 rows x 8 columns]"
      ]
     },
     "execution_count": 44,
     "metadata": {},
     "output_type": "execute_result"
    }
   ],
   "source": [
    "features_nafill"
   ]
  },
  {
   "cell_type": "code",
   "execution_count": 45,
   "metadata": {},
   "outputs": [
    {
     "data": {
      "text/plain": [
       "2020-12-05 01:14:22.361999872    0.0\n",
       "2020-12-05 01:14:22.880999936    0.0\n",
       "2020-12-05 01:14:23.388999936    0.0\n",
       "2020-12-05 01:14:23.796000000    0.0\n",
       "2020-12-05 01:14:24.305999872    0.0\n",
       "                                ... \n",
       "2020-12-05 06:50:57.604000000    0.0\n",
       "2020-12-05 06:50:58.112000000    0.0\n",
       "2020-12-05 06:50:58.620000000    0.0\n",
       "2020-12-05 06:50:59.128000000    0.0\n",
       "2020-12-05 06:50:59.636000000    0.0\n",
       "Name: Annotation, Length: 40389, dtype: float64"
      ]
     },
     "execution_count": 45,
     "metadata": {},
     "output_type": "execute_result"
    }
   ],
   "source": [
    "target_nafill"
   ]
  },
  {
   "cell_type": "code",
   "execution_count": 46,
   "metadata": {},
   "outputs": [],
   "source": [
    "# scaling with normalizer\n",
    "from sklearn.preprocessing import Normalizer\n",
    "norm = Normalizer()\n",
    "features_nafill_norm = norm.fit_transform(features_nafill)"
   ]
  },
  {
   "cell_type": "code",
   "execution_count": 47,
   "metadata": {},
   "outputs": [
    {
     "data": {
      "text/plain": [
       "(40389, 8)"
      ]
     },
     "execution_count": 47,
     "metadata": {},
     "output_type": "execute_result"
    }
   ],
   "source": [
    "features_nafill_norm.shape"
   ]
  },
  {
   "cell_type": "code",
   "execution_count": 48,
   "metadata": {},
   "outputs": [],
   "source": [
    "# split into train and test 65% , 35% \n",
    "from sklearn.model_selection import train_test_split\n",
    "X_train_norm, X_test_norm, Y_train_norm, Y_test_norm = train_test_split(features_nafill_norm, target_nafill, test_size = 0.35)"
   ]
  },
  {
   "cell_type": "code",
   "execution_count": 49,
   "metadata": {},
   "outputs": [
    {
     "name": "stdout",
     "output_type": "stream",
     "text": [
      "Accuracy of the Random Forest on train set: 0.993\n",
      "Accuracy of the Random Forest on test set: 0.992\n",
      "              precision    recall  f1-score   support\n",
      "\n",
      "         0.0       0.99      0.99      0.99      9653\n",
      "         1.0       0.99      0.99      0.99      4484\n",
      "\n",
      "    accuracy                           0.99     14137\n",
      "   macro avg       0.99      0.99      0.99     14137\n",
      "weighted avg       0.99      0.99      0.99     14137\n",
      "\n"
     ]
    },
    {
     "data": {
      "image/png": "[encoded data removed]",
      "text/plain": [
       "<Figure size 432x288 with 1 Axes>"
      ]
     },
     "metadata": {
      "needs_background": "light"
     },
     "output_type": "display_data"
    }
   ],
   "source": [
    "# I will test with gboost and random forest\n",
    "from sklearn.ensemble import GradientBoostingClassifier, RandomForestClassifier\n",
    "from sklearn.metrics import classification_report\n",
    "from sklearn.model_selection import GridSearchCV\n",
    "\n",
    "gb_baseline = GradientBoostingClassifier(learning_rate=0.1, n_estimators=100,max_depth=3, min_samples_split=2, min_samples_leaf=1, subsample=1,max_features='sqrt')\n",
    "rf_baseline = RandomForestClassifier(n_estimators=100,max_depth=3, min_samples_split=2, min_samples_leaf=1,max_features='sqrt')\n",
    "\n",
    "\n",
    "rf_baseline.fit(X_train_norm,Y_train_norm)\n",
    "predictors=list(data.columns)\n",
    "feat_imp = pd.Series(rf_baseline.feature_importances_, predictors).sort_values(ascending=False)\n",
    "feat_imp.plot(kind='bar', title='Importance of Features')\n",
    "plt.ylabel('Feature Importance Score')\n",
    "print('Accuracy of the Random Forest on train set: {:.3f}'.format(rf_baseline.score(X_train_norm, Y_train_norm)))\n",
    "print('Accuracy of the Random Forest on test set: {:.3f}'.format(rf_baseline.score(X_test_norm, Y_test_norm)))\n",
    "pred_rf=rf_baseline.predict(X_test_norm)\n",
    "print(classification_report(Y_test_norm, pred_rf))"
   ]
  },
  {
   "cell_type": "code",
   "execution_count": 50,
   "metadata": {},
   "outputs": [
    {
     "name": "stdout",
     "output_type": "stream",
     "text": [
      "              precision    recall  f1-score   support\n",
      "\n",
      "         0.0       1.00      0.99      0.99      9653\n",
      "         1.0       0.99      0.99      0.99      4484\n",
      "\n",
      "    accuracy                           0.99     14137\n",
      "   macro avg       0.99      0.99      0.99     14137\n",
      "weighted avg       0.99      0.99      0.99     14137\n",
      "\n"
     ]
    },
    {
     "data": {
      "text/plain": [
       "({'max_depth': 5,\n",
       "  'max_features': 'sqrt',\n",
       "  'min_samples_leaf': 1,\n",
       "  'min_samples_split': 2,\n",
       "  'n_estimators': 100},\n",
       " 0.9930290502489323)"
      ]
     },
     "execution_count": 50,
     "metadata": {},
     "output_type": "execute_result"
    }
   ],
   "source": [
    "rf = RandomForestClassifier()\n",
    "param = {'n_estimators':[100,200],'max_depth':[3,5], 'min_samples_split':[2,4], 'min_samples_leaf':[1,3],'max_features':['sqrt']}\n",
    "gs = GridSearchCV(rf,param_grid = param, scoring='accuracy')\n",
    "gs.fit(X_train_norm,Y_train_norm)\n",
    "pred=gs.predict(X_test_norm)\n",
    "print(classification_report(Y_test_norm, pred))\n",
    "gs.best_params_, gs.best_score_"
   ]
  },
  {
   "cell_type": "code",
   "execution_count": 51,
   "metadata": {},
   "outputs": [
    {
     "name": "stdout",
     "output_type": "stream",
     "text": [
      "Accuracy of the GBM on train set: 0.996\n",
      "Accuracy of the GBM on test set: 0.993\n",
      "              precision    recall  f1-score   support\n",
      "\n",
      "         0.0       1.00      0.99      1.00      9653\n",
      "         1.0       0.99      0.99      0.99      4484\n",
      "\n",
      "    accuracy                           0.99     14137\n",
      "   macro avg       0.99      0.99      0.99     14137\n",
      "weighted avg       0.99      0.99      0.99     14137\n",
      "\n"
     ]
    },
    {
     "data": {
      "image/png": "[encoded data removed]",
      "text/plain": [
       "<Figure size 432x288 with 1 Axes>"
      ]
     },
     "metadata": {
      "needs_background": "light"
     },
     "output_type": "display_data"
    }
   ],
   "source": [
    "gb_baseline.fit(X_train_norm,Y_train_norm)\n",
    "predictors=list(data.columns)\n",
    "feat_imp = pd.Series(gb_baseline.feature_importances_, predictors).sort_values(ascending=False)\n",
    "feat_imp.plot(kind='bar', title='Importance of Features')\n",
    "plt.ylabel('Feature Importance Score')\n",
    "print('Accuracy of the GBM on train set: {:.3f}'.format(gb_baseline.score(X_train_norm, Y_train_norm)))\n",
    "print('Accuracy of the GBM on test set: {:.3f}'.format(gb_baseline.score(X_test_norm, Y_test_norm)))\n",
    "pred_gb=gb_baseline.predict(X_test_norm)\n",
    "print(classification_report(Y_test_norm, pred_gb))"
   ]
  },
  {
   "cell_type": "markdown",
   "metadata": {},
   "source": [
    "The TPO, RPM and TOR had no contribution to the model.\n"
   ]
  },
  {
   "cell_type": "code",
   "execution_count": 52,
   "metadata": {},
   "outputs": [],
   "source": [
    "# dataframe to do feature selection\n",
    "X_train_norm = pd.DataFrame(X_train_norm,columns=data.columns) \n",
    "X_test_norm = pd.DataFrame(X_test_norm,columns=data.columns) "
   ]
  },
  {
   "cell_type": "code",
   "execution_count": 53,
   "metadata": {},
   "outputs": [],
   "source": [
    "# feature selection dropping DEPT,TPO,RPM and TOR.\n",
    "X_train_norm_fs = X_train_norm.loc[:,['BDEP','HL','BHT','WOB']]\n",
    "X_test_norm_fs = X_test_norm.loc[:,['BDEP','HL','BHT','WOB']]"
   ]
  },
  {
   "cell_type": "code",
   "execution_count": 54,
   "metadata": {},
   "outputs": [
    {
     "data": {
      "text/html": [
       "<div>\n",
       "<style scoped>\n",
       "    .dataframe tbody tr th:only-of-type {\n",
       "        vertical-align: middle;\n",
       "    }\n",
       "\n",
       "    .dataframe tbody tr th {\n",
       "        vertical-align: top;\n",
       "    }\n",
       "\n",
       "    .dataframe thead th {\n",
       "        text-align: right;\n",
       "    }\n",
       "</style>\n",
       "<table border=\"1\" class=\"dataframe\">\n",
       "  <thead>\n",
       "    <tr style=\"text-align: right;\">\n",
       "      <th></th>\n",
       "      <th>BDEP</th>\n",
       "      <th>HL</th>\n",
       "      <th>BHT</th>\n",
       "      <th>WOB</th>\n",
       "    </tr>\n",
       "  </thead>\n",
       "  <tbody>\n",
       "    <tr>\n",
       "      <th>0</th>\n",
       "      <td>0.633001</td>\n",
       "      <td>0.063511</td>\n",
       "      <td>0.004087</td>\n",
       "      <td>0.000228</td>\n",
       "    </tr>\n",
       "    <tr>\n",
       "      <th>1</th>\n",
       "      <td>0.598351</td>\n",
       "      <td>0.060436</td>\n",
       "      <td>0.005182</td>\n",
       "      <td>0.000998</td>\n",
       "    </tr>\n",
       "    <tr>\n",
       "      <th>2</th>\n",
       "      <td>0.546060</td>\n",
       "      <td>0.014179</td>\n",
       "      <td>0.000630</td>\n",
       "      <td>0.043843</td>\n",
       "    </tr>\n",
       "    <tr>\n",
       "      <th>3</th>\n",
       "      <td>0.600591</td>\n",
       "      <td>0.060427</td>\n",
       "      <td>0.001685</td>\n",
       "      <td>0.000879</td>\n",
       "    </tr>\n",
       "    <tr>\n",
       "      <th>4</th>\n",
       "      <td>0.621109</td>\n",
       "      <td>0.059943</td>\n",
       "      <td>0.004123</td>\n",
       "      <td>0.002277</td>\n",
       "    </tr>\n",
       "    <tr>\n",
       "      <th>...</th>\n",
       "      <td>...</td>\n",
       "      <td>...</td>\n",
       "      <td>...</td>\n",
       "      <td>...</td>\n",
       "    </tr>\n",
       "    <tr>\n",
       "      <th>26247</th>\n",
       "      <td>0.538562</td>\n",
       "      <td>0.013093</td>\n",
       "      <td>0.000289</td>\n",
       "      <td>0.045261</td>\n",
       "    </tr>\n",
       "    <tr>\n",
       "      <th>26248</th>\n",
       "      <td>0.575834</td>\n",
       "      <td>0.058857</td>\n",
       "      <td>0.003256</td>\n",
       "      <td>0.001287</td>\n",
       "    </tr>\n",
       "    <tr>\n",
       "      <th>26249</th>\n",
       "      <td>0.520697</td>\n",
       "      <td>0.056592</td>\n",
       "      <td>0.003385</td>\n",
       "      <td>0.001035</td>\n",
       "    </tr>\n",
       "    <tr>\n",
       "      <th>26250</th>\n",
       "      <td>0.631643</td>\n",
       "      <td>0.062838</td>\n",
       "      <td>0.001122</td>\n",
       "      <td>0.000961</td>\n",
       "    </tr>\n",
       "    <tr>\n",
       "      <th>26251</th>\n",
       "      <td>0.641321</td>\n",
       "      <td>0.064731</td>\n",
       "      <td>0.004606</td>\n",
       "      <td>0.000286</td>\n",
       "    </tr>\n",
       "  </tbody>\n",
       "</table>\n",
       "<p>26252 rows × 4 columns</p>\n",
       "</div>"
      ],
      "text/plain": [
       "           BDEP        HL       BHT       WOB\n",
       "0      0.633001  0.063511  0.004087  0.000228\n",
       "1      0.598351  0.060436  0.005182  0.000998\n",
       "2      0.546060  0.014179  0.000630  0.043843\n",
       "3      0.600591  0.060427  0.001685  0.000879\n",
       "4      0.621109  0.059943  0.004123  0.002277\n",
       "...         ...       ...       ...       ...\n",
       "26247  0.538562  0.013093  0.000289  0.045261\n",
       "26248  0.575834  0.058857  0.003256  0.001287\n",
       "26249  0.520697  0.056592  0.003385  0.001035\n",
       "26250  0.631643  0.062838  0.001122  0.000961\n",
       "26251  0.641321  0.064731  0.004606  0.000286\n",
       "\n",
       "[26252 rows x 4 columns]"
      ]
     },
     "execution_count": 54,
     "metadata": {},
     "output_type": "execute_result"
    }
   ],
   "source": [
    "X_train_norm_fs"
   ]
  },
  {
   "cell_type": "code",
   "execution_count": 55,
   "metadata": {},
   "outputs": [
    {
     "name": "stdout",
     "output_type": "stream",
     "text": [
      "Accuracy of the GBM on train set: 0.996\n",
      "Accuracy of the GBM on test set: 0.993\n",
      "              precision    recall  f1-score   support\n",
      "\n",
      "         0.0       1.00      0.99      1.00      9653\n",
      "         1.0       0.99      0.99      0.99      4484\n",
      "\n",
      "    accuracy                           0.99     14137\n",
      "   macro avg       0.99      0.99      0.99     14137\n",
      "weighted avg       0.99      0.99      0.99     14137\n",
      "\n"
     ]
    },
    {
     "data": {
      "image/png": "[encoded data removed]",
      "text/plain": [
       "<Figure size 432x288 with 1 Axes>"
      ]
     },
     "metadata": {
      "needs_background": "light"
     },
     "output_type": "display_data"
    }
   ],
   "source": [
    "# model gb with feature selection\n",
    "gb = GradientBoostingClassifier(learning_rate=0.1, n_estimators=100,max_depth=3, min_samples_split=2, min_samples_leaf=1, subsample=1,max_features='sqrt')\n",
    "gb.fit(X_train_norm_fs,Y_train_norm)\n",
    "predictors=list(X_train_norm_fs.columns)\n",
    "feat_imp = pd.Series(gb.feature_importances_, predictors).sort_values(ascending=False)\n",
    "feat_imp.plot(kind='bar', title='Importance of Features')\n",
    "plt.ylabel('Feature Importance Score')\n",
    "print('Accuracy of the GBM on train set: {:.3f}'.format(gb.score(X_train_norm_fs, Y_train_norm)))\n",
    "print('Accuracy of the GBM on test set: {:.3f}'.format(gb.score(X_test_norm_fs, Y_test_norm)))\n",
    "pred_gbfs=gb.predict(X_test_norm_fs)\n",
    "print(classification_report(Y_test_norm, pred_gbfs))"
   ]
  },
  {
   "cell_type": "code",
   "execution_count": 56,
   "metadata": {},
   "outputs": [],
   "source": [
    "# scaling the data with minmaxscaler\n",
    "from sklearn.preprocessing import MinMaxScaler\n",
    "minmax = MinMaxScaler()\n",
    "features_nafill_minmax = norm.fit_transform(features_nafill)"
   ]
  },
  {
   "cell_type": "code",
   "execution_count": 57,
   "metadata": {},
   "outputs": [],
   "source": [
    "X_train_minmax, X_test_minmax, Y_train_minmax, Y_test_minmax = train_test_split(features_nafill_minmax, target_nafill, test_size = 0.35)"
   ]
  },
  {
   "cell_type": "code",
   "execution_count": 58,
   "metadata": {},
   "outputs": [
    {
     "name": "stdout",
     "output_type": "stream",
     "text": [
      "Accuracy of the GBM with minmax on train set: 0.996\n",
      "Accuracy of the GBM with minmax on test set: 0.993\n",
      "              precision    recall  f1-score   support\n",
      "\n",
      "         0.0       1.00      1.00      1.00      9615\n",
      "         1.0       0.99      0.99      0.99      4522\n",
      "\n",
      "    accuracy                           1.00     14137\n",
      "   macro avg       0.99      0.99      0.99     14137\n",
      "weighted avg       1.00      1.00      1.00     14137\n",
      "\n"
     ]
    },
    {
     "data": {
      "image/png": "[encoded data removed]",
      "text/plain": [
       "<Figure size 432x288 with 1 Axes>"
      ]
     },
     "metadata": {
      "needs_background": "light"
     },
     "output_type": "display_data"
    }
   ],
   "source": [
    "# testing with minmax scaled data\n",
    "gb_minmax = GradientBoostingClassifier(learning_rate=0.1, n_estimators=100,max_depth=3, min_samples_split=2, min_samples_leaf=1, subsample=1,max_features='sqrt')\n",
    "gb_minmax.fit(X_train_minmax,Y_train_minmax)\n",
    "predictors=list(data.columns)\n",
    "feat_imp = pd.Series(gb_baseline.feature_importances_, predictors).sort_values(ascending=False)\n",
    "feat_imp.plot(kind='bar', title='Importance of Features')\n",
    "plt.ylabel('Feature Importance Score')\n",
    "print('Accuracy of the GBM with minmax on train set: {:.3f}'.format(gb_minmax.score(X_train_minmax, Y_train_minmax)))\n",
    "print('Accuracy of the GBM with minmax on test set: {:.3f}'.format(gb_minmax.score(X_test_minmax, Y_test_minmax)))\n",
    "pred_minmax=gb_baseline.predict(X_test_minmax)\n",
    "print(classification_report(Y_test_minmax, pred_minmax))"
   ]
  },
  {
   "cell_type": "markdown",
   "metadata": {},
   "source": [
    "Almost the same result as normalized the data.\n",
    "I will try to drop missing values and see what happen."
   ]
  },
  {
   "cell_type": "code",
   "execution_count": 59,
   "metadata": {},
   "outputs": [],
   "source": [
    "df_nadropped = new_df.copy()"
   ]
  },
  {
   "cell_type": "code",
   "execution_count": 60,
   "metadata": {},
   "outputs": [],
   "source": [
    "df_nadropped.dropna(axis=0,inplace=True)"
   ]
  },
  {
   "cell_type": "code",
   "execution_count": 61,
   "metadata": {},
   "outputs": [
    {
     "data": {
      "text/plain": [
       "BDEP          0\n",
       "TPO           0\n",
       "HL            0\n",
       "BHT           0\n",
       "RPM           0\n",
       "TOR           0\n",
       "DEPT          0\n",
       "WOB           0\n",
       "Annotation    0\n",
       "time          0\n",
       "timediff      0\n",
       "dtype: int64"
      ]
     },
     "execution_count": 61,
     "metadata": {},
     "output_type": "execute_result"
    }
   ],
   "source": [
    "df_nadropped.isna().sum()"
   ]
  },
  {
   "cell_type": "code",
   "execution_count": 62,
   "metadata": {},
   "outputs": [
    {
     "data": {
      "text/html": [
       "<div>\n",
       "<style scoped>\n",
       "    .dataframe tbody tr th:only-of-type {\n",
       "        vertical-align: middle;\n",
       "    }\n",
       "\n",
       "    .dataframe tbody tr th {\n",
       "        vertical-align: top;\n",
       "    }\n",
       "\n",
       "    .dataframe thead th {\n",
       "        text-align: right;\n",
       "    }\n",
       "</style>\n",
       "<table border=\"1\" class=\"dataframe\">\n",
       "  <thead>\n",
       "    <tr style=\"text-align: right;\">\n",
       "      <th></th>\n",
       "      <th>BDEP</th>\n",
       "      <th>TPO</th>\n",
       "      <th>HL</th>\n",
       "      <th>BHT</th>\n",
       "      <th>RPM</th>\n",
       "      <th>TOR</th>\n",
       "      <th>DEPT</th>\n",
       "      <th>WOB</th>\n",
       "      <th>Annotation</th>\n",
       "      <th>time</th>\n",
       "      <th>timediff</th>\n",
       "    </tr>\n",
       "  </thead>\n",
       "  <tbody>\n",
       "    <tr>\n",
       "      <th>2020-12-05 01:14:22.361999872</th>\n",
       "      <td>5042.509</td>\n",
       "      <td>23.511311</td>\n",
       "      <td>492.985987</td>\n",
       "      <td>39.519</td>\n",
       "      <td>0.0</td>\n",
       "      <td>0.0</td>\n",
       "      <td>5795.817</td>\n",
       "      <td>42.90</td>\n",
       "      <td>0.0</td>\n",
       "      <td>2020-12-05 01:14:22.361999872</td>\n",
       "      <td>0 days 00:00:00.506999808</td>\n",
       "    </tr>\n",
       "    <tr>\n",
       "      <th>2020-12-05 01:14:22.880999936</th>\n",
       "      <td>5042.509</td>\n",
       "      <td>24.567999</td>\n",
       "      <td>490.615987</td>\n",
       "      <td>39.519</td>\n",
       "      <td>0.0</td>\n",
       "      <td>0.0</td>\n",
       "      <td>5795.817</td>\n",
       "      <td>45.27</td>\n",
       "      <td>0.0</td>\n",
       "      <td>2020-12-05 01:14:22.880999936</td>\n",
       "      <td>0 days 00:00:00.519000064</td>\n",
       "    </tr>\n",
       "    <tr>\n",
       "      <th>2020-12-05 01:14:23.388999936</th>\n",
       "      <td>5042.509</td>\n",
       "      <td>26.153032</td>\n",
       "      <td>489.895987</td>\n",
       "      <td>39.519</td>\n",
       "      <td>0.0</td>\n",
       "      <td>0.0</td>\n",
       "      <td>5795.817</td>\n",
       "      <td>45.99</td>\n",
       "      <td>0.0</td>\n",
       "      <td>2020-12-05 01:14:23.388999936</td>\n",
       "      <td>0 days 00:00:00.508000</td>\n",
       "    </tr>\n",
       "    <tr>\n",
       "      <th>2020-12-05 01:14:23.796000000</th>\n",
       "      <td>5042.509</td>\n",
       "      <td>14.001118</td>\n",
       "      <td>489.717987</td>\n",
       "      <td>39.519</td>\n",
       "      <td>0.0</td>\n",
       "      <td>0.0</td>\n",
       "      <td>5795.817</td>\n",
       "      <td>46.17</td>\n",
       "      <td>0.0</td>\n",
       "      <td>2020-12-05 01:14:23.796000000</td>\n",
       "      <td>0 days 00:00:00.407000064</td>\n",
       "    </tr>\n",
       "    <tr>\n",
       "      <th>2020-12-05 01:14:24.305999872</th>\n",
       "      <td>5042.509</td>\n",
       "      <td>22.190451</td>\n",
       "      <td>491.635987</td>\n",
       "      <td>39.519</td>\n",
       "      <td>0.0</td>\n",
       "      <td>0.0</td>\n",
       "      <td>5795.817</td>\n",
       "      <td>44.25</td>\n",
       "      <td>0.0</td>\n",
       "      <td>2020-12-05 01:14:24.305999872</td>\n",
       "      <td>0 days 00:00:00.509999872</td>\n",
       "    </tr>\n",
       "    <tr>\n",
       "      <th>...</th>\n",
       "      <td>...</td>\n",
       "      <td>...</td>\n",
       "      <td>...</td>\n",
       "      <td>...</td>\n",
       "      <td>...</td>\n",
       "      <td>...</td>\n",
       "      <td>...</td>\n",
       "      <td>...</td>\n",
       "      <td>...</td>\n",
       "      <td>...</td>\n",
       "      <td>...</td>\n",
       "    </tr>\n",
       "    <tr>\n",
       "      <th>2020-12-05 06:50:57.604000000</th>\n",
       "      <td>3055.453</td>\n",
       "      <td>0.000000</td>\n",
       "      <td>358.541991</td>\n",
       "      <td>24.768</td>\n",
       "      <td>0.0</td>\n",
       "      <td>0.0</td>\n",
       "      <td>5795.817</td>\n",
       "      <td>2.46</td>\n",
       "      <td>0.0</td>\n",
       "      <td>2020-12-05 06:50:57.604000000</td>\n",
       "      <td>0 days 00:00:00.508000</td>\n",
       "    </tr>\n",
       "    <tr>\n",
       "      <th>2020-12-05 06:50:58.112000000</th>\n",
       "      <td>3055.453</td>\n",
       "      <td>0.000000</td>\n",
       "      <td>358.595991</td>\n",
       "      <td>24.856</td>\n",
       "      <td>0.0</td>\n",
       "      <td>0.0</td>\n",
       "      <td>5795.817</td>\n",
       "      <td>2.40</td>\n",
       "      <td>0.0</td>\n",
       "      <td>2020-12-05 06:50:58.112000000</td>\n",
       "      <td>0 days 00:00:00.508000</td>\n",
       "    </tr>\n",
       "    <tr>\n",
       "      <th>2020-12-05 06:50:58.620000000</th>\n",
       "      <td>3055.453</td>\n",
       "      <td>0.000000</td>\n",
       "      <td>358.605991</td>\n",
       "      <td>24.940</td>\n",
       "      <td>0.0</td>\n",
       "      <td>0.0</td>\n",
       "      <td>5795.817</td>\n",
       "      <td>2.39</td>\n",
       "      <td>0.0</td>\n",
       "      <td>2020-12-05 06:50:58.620000000</td>\n",
       "      <td>0 days 00:00:00.508000</td>\n",
       "    </tr>\n",
       "    <tr>\n",
       "      <th>2020-12-05 06:50:59.128000000</th>\n",
       "      <td>3055.281</td>\n",
       "      <td>0.000000</td>\n",
       "      <td>358.411991</td>\n",
       "      <td>25.038</td>\n",
       "      <td>0.0</td>\n",
       "      <td>0.0</td>\n",
       "      <td>5795.817</td>\n",
       "      <td>2.59</td>\n",
       "      <td>0.0</td>\n",
       "      <td>2020-12-05 06:50:59.128000000</td>\n",
       "      <td>0 days 00:00:00.508000</td>\n",
       "    </tr>\n",
       "    <tr>\n",
       "      <th>2020-12-05 06:50:59.636000000</th>\n",
       "      <td>3055.281</td>\n",
       "      <td>0.000000</td>\n",
       "      <td>357.757991</td>\n",
       "      <td>25.123</td>\n",
       "      <td>0.0</td>\n",
       "      <td>0.0</td>\n",
       "      <td>5795.817</td>\n",
       "      <td>3.24</td>\n",
       "      <td>0.0</td>\n",
       "      <td>2020-12-05 06:50:59.636000000</td>\n",
       "      <td>0 days 00:00:00.508000</td>\n",
       "    </tr>\n",
       "  </tbody>\n",
       "</table>\n",
       "<p>27483 rows × 11 columns</p>\n",
       "</div>"
      ],
      "text/plain": [
       "                                   BDEP        TPO          HL     BHT  RPM  \\\n",
       "2020-12-05 01:14:22.361999872  5042.509  23.511311  492.985987  39.519  0.0   \n",
       "2020-12-05 01:14:22.880999936  5042.509  24.567999  490.615987  39.519  0.0   \n",
       "2020-12-05 01:14:23.388999936  5042.509  26.153032  489.895987  39.519  0.0   \n",
       "2020-12-05 01:14:23.796000000  5042.509  14.001118  489.717987  39.519  0.0   \n",
       "2020-12-05 01:14:24.305999872  5042.509  22.190451  491.635987  39.519  0.0   \n",
       "...                                 ...        ...         ...     ...  ...   \n",
       "2020-12-05 06:50:57.604000000  3055.453   0.000000  358.541991  24.768  0.0   \n",
       "2020-12-05 06:50:58.112000000  3055.453   0.000000  358.595991  24.856  0.0   \n",
       "2020-12-05 06:50:58.620000000  3055.453   0.000000  358.605991  24.940  0.0   \n",
       "2020-12-05 06:50:59.128000000  3055.281   0.000000  358.411991  25.038  0.0   \n",
       "2020-12-05 06:50:59.636000000  3055.281   0.000000  357.757991  25.123  0.0   \n",
       "\n",
       "                               TOR      DEPT    WOB  Annotation  \\\n",
       "2020-12-05 01:14:22.361999872  0.0  5795.817  42.90         0.0   \n",
       "2020-12-05 01:14:22.880999936  0.0  5795.817  45.27         0.0   \n",
       "2020-12-05 01:14:23.388999936  0.0  5795.817  45.99         0.0   \n",
       "2020-12-05 01:14:23.796000000  0.0  5795.817  46.17         0.0   \n",
       "2020-12-05 01:14:24.305999872  0.0  5795.817  44.25         0.0   \n",
       "...                            ...       ...    ...         ...   \n",
       "2020-12-05 06:50:57.604000000  0.0  5795.817   2.46         0.0   \n",
       "2020-12-05 06:50:58.112000000  0.0  5795.817   2.40         0.0   \n",
       "2020-12-05 06:50:58.620000000  0.0  5795.817   2.39         0.0   \n",
       "2020-12-05 06:50:59.128000000  0.0  5795.817   2.59         0.0   \n",
       "2020-12-05 06:50:59.636000000  0.0  5795.817   3.24         0.0   \n",
       "\n",
       "                                                       time  \\\n",
       "2020-12-05 01:14:22.361999872 2020-12-05 01:14:22.361999872   \n",
       "2020-12-05 01:14:22.880999936 2020-12-05 01:14:22.880999936   \n",
       "2020-12-05 01:14:23.388999936 2020-12-05 01:14:23.388999936   \n",
       "2020-12-05 01:14:23.796000000 2020-12-05 01:14:23.796000000   \n",
       "2020-12-05 01:14:24.305999872 2020-12-05 01:14:24.305999872   \n",
       "...                                                     ...   \n",
       "2020-12-05 06:50:57.604000000 2020-12-05 06:50:57.604000000   \n",
       "2020-12-05 06:50:58.112000000 2020-12-05 06:50:58.112000000   \n",
       "2020-12-05 06:50:58.620000000 2020-12-05 06:50:58.620000000   \n",
       "2020-12-05 06:50:59.128000000 2020-12-05 06:50:59.128000000   \n",
       "2020-12-05 06:50:59.636000000 2020-12-05 06:50:59.636000000   \n",
       "\n",
       "                                               timediff  \n",
       "2020-12-05 01:14:22.361999872 0 days 00:00:00.506999808  \n",
       "2020-12-05 01:14:22.880999936 0 days 00:00:00.519000064  \n",
       "2020-12-05 01:14:23.388999936    0 days 00:00:00.508000  \n",
       "2020-12-05 01:14:23.796000000 0 days 00:00:00.407000064  \n",
       "2020-12-05 01:14:24.305999872 0 days 00:00:00.509999872  \n",
       "...                                                 ...  \n",
       "2020-12-05 06:50:57.604000000    0 days 00:00:00.508000  \n",
       "2020-12-05 06:50:58.112000000    0 days 00:00:00.508000  \n",
       "2020-12-05 06:50:58.620000000    0 days 00:00:00.508000  \n",
       "2020-12-05 06:50:59.128000000    0 days 00:00:00.508000  \n",
       "2020-12-05 06:50:59.636000000    0 days 00:00:00.508000  \n",
       "\n",
       "[27483 rows x 11 columns]"
      ]
     },
     "execution_count": 62,
     "metadata": {},
     "output_type": "execute_result"
    }
   ],
   "source": [
    "df_nadropped[df_nadropped['Annotation']==0.0]"
   ]
  },
  {
   "cell_type": "code",
   "execution_count": 63,
   "metadata": {},
   "outputs": [],
   "source": [
    "features_nadrop = df_nadropped.iloc[:,0:8]\n",
    "target_nadrop = df_nadropped.iloc[:,8]"
   ]
  },
  {
   "cell_type": "code",
   "execution_count": 64,
   "metadata": {},
   "outputs": [],
   "source": [
    "features_nadrop_norm = norm.fit_transform(features_nadrop)"
   ]
  },
  {
   "cell_type": "code",
   "execution_count": 65,
   "metadata": {},
   "outputs": [],
   "source": [
    "X_train_norm_drop, X_test_norm_drop, Y_train_norm_drop, Y_test_norm_drop = train_test_split(features_nadrop_norm, target_nadrop, test_size = 0.35)"
   ]
  },
  {
   "cell_type": "code",
   "execution_count": 66,
   "metadata": {},
   "outputs": [
    {
     "name": "stdout",
     "output_type": "stream",
     "text": [
      "Accuracy of the GBM with dropped and normalized data on train set: 0.996\n",
      "Accuracy of the GBM with dropped and normalized data on test set: 0.994\n",
      "              precision    recall  f1-score   support\n",
      "\n",
      "         0.0       1.00      1.00      1.00      9602\n",
      "         1.0       0.99      0.99      0.99      4526\n",
      "\n",
      "    accuracy                           0.99     14128\n",
      "   macro avg       0.99      0.99      0.99     14128\n",
      "weighted avg       0.99      0.99      0.99     14128\n",
      "\n"
     ]
    },
    {
     "data": {
      "image/png": "[encoded data removed]",
      "text/plain": [
       "<Figure size 432x288 with 1 Axes>"
      ]
     },
     "metadata": {
      "needs_background": "light"
     },
     "output_type": "display_data"
    }
   ],
   "source": [
    "gb_norm_drop = GradientBoostingClassifier(learning_rate=0.1, n_estimators=100,max_depth=3, min_samples_split=2, min_samples_leaf=1, subsample=1,max_features='sqrt')\n",
    "gb_norm_drop.fit(X_train_norm_drop,Y_train_norm_drop)\n",
    "predictors=list(data.columns)\n",
    "feat_imp = pd.Series(gb_norm_drop.feature_importances_, predictors).sort_values(ascending=False)\n",
    "feat_imp.plot(kind='bar', title='Importance of Features')\n",
    "plt.ylabel('Feature Importance Score')\n",
    "print('Accuracy of the GBM with dropped and normalized data on train set: {:.3f}'.format(gb_norm_drop.score(X_train_norm_drop, Y_train_norm_drop)))\n",
    "print('Accuracy of the GBM with dropped and normalized data on test set: {:.3f}'.format(gb_norm_drop.score(X_test_norm_drop, Y_test_norm_drop)))\n",
    "pred_norm_drop=gb_norm_drop.predict(X_test_norm_drop)\n",
    "print(classification_report(Y_test_norm_drop, pred_norm_drop))"
   ]
  },
  {
   "cell_type": "code",
   "execution_count": 67,
   "metadata": {},
   "outputs": [
    {
     "data": {
      "image/png": "[encoded data removed]",
      "text/plain": [
       "<Figure size 432x288 with 2 Axes>"
      ]
     },
     "metadata": {
      "needs_background": "light"
     },
     "output_type": "display_data"
    }
   ],
   "source": [
    "from scikitplot.metrics import plot_confusion_matrix\n",
    "plot_confusion_matrix(Y_test_norm, pred_gbfs,normalize=True)\n",
    "plt.show()"
   ]
  },
  {
   "cell_type": "markdown",
   "metadata": {},
   "source": [
    "The variables TPO,RPM and TOR had no correlations with the other variables.\n",
    "Also they had no contributions to the models I had built so far. Thus, I will build a final model without this variables.\n",
    "Moreover, I will split the dataset into train,validation and test data to guarantee that the model can generalize."
   ]
  },
  {
   "cell_type": "code",
   "execution_count": 68,
   "metadata": {},
   "outputs": [],
   "source": [
    "# selecting the variables for final model\n",
    "df = pd.DataFrame(features_nafill_norm,columns=data.columns)\n",
    "df = df.loc[:,['BDEP','HL','BHT','DEPT','WOB']]"
   ]
  },
  {
   "cell_type": "code",
   "execution_count": 69,
   "metadata": {},
   "outputs": [],
   "source": [
    "# splitting into train, validation and test\n",
    "train, test, y_train, y_test = train_test_split(df,target_nafill,test_size=0.2,train_size=0.8)\n",
    "train, validate, y_train, y_validate = train_test_split(train,y_train,test_size = 0.25,train_size =0.75)"
   ]
  },
  {
   "cell_type": "code",
   "execution_count": 70,
   "metadata": {},
   "outputs": [
    {
     "data": {
      "text/plain": [
       "(24233, 5)"
      ]
     },
     "execution_count": 70,
     "metadata": {},
     "output_type": "execute_result"
    }
   ],
   "source": [
    "train.shape"
   ]
  },
  {
   "cell_type": "code",
   "execution_count": 71,
   "metadata": {},
   "outputs": [
    {
     "data": {
      "text/plain": [
       "(8078, 5)"
      ]
     },
     "execution_count": 71,
     "metadata": {},
     "output_type": "execute_result"
    }
   ],
   "source": [
    "validate.shape"
   ]
  },
  {
   "cell_type": "code",
   "execution_count": 72,
   "metadata": {},
   "outputs": [
    {
     "data": {
      "text/plain": [
       "(8078, 5)"
      ]
     },
     "execution_count": 72,
     "metadata": {},
     "output_type": "execute_result"
    }
   ],
   "source": [
    "test.shape"
   ]
  },
  {
   "cell_type": "code",
   "execution_count": 73,
   "metadata": {},
   "outputs": [
    {
     "data": {
      "text/plain": [
       "(24233,)"
      ]
     },
     "execution_count": 73,
     "metadata": {},
     "output_type": "execute_result"
    }
   ],
   "source": [
    "y_train.shape"
   ]
  },
  {
   "cell_type": "code",
   "execution_count": 74,
   "metadata": {},
   "outputs": [
    {
     "data": {
      "text/plain": [
       "(8078,)"
      ]
     },
     "execution_count": 74,
     "metadata": {},
     "output_type": "execute_result"
    }
   ],
   "source": [
    "y_validate.shape"
   ]
  },
  {
   "cell_type": "code",
   "execution_count": 75,
   "metadata": {},
   "outputs": [
    {
     "data": {
      "text/plain": [
       "(8078,)"
      ]
     },
     "execution_count": 75,
     "metadata": {},
     "output_type": "execute_result"
    }
   ],
   "source": [
    "y_test.shape"
   ]
  },
  {
   "cell_type": "code",
   "execution_count": 76,
   "metadata": {},
   "outputs": [
    {
     "name": "stdout",
     "output_type": "stream",
     "text": [
      "Accuracy of the GBM on train set: 0.996\n",
      "Accuracy of the GBM on validation set: 0.993\n",
      "              precision    recall  f1-score   support\n",
      "\n",
      "         0.0       1.00      0.99      1.00      5499\n",
      "         1.0       0.99      0.99      0.99      2579\n",
      "\n",
      "    accuracy                           0.99      8078\n",
      "   macro avg       0.99      0.99      0.99      8078\n",
      "weighted avg       0.99      0.99      0.99      8078\n",
      "\n",
      "              precision    recall  f1-score   support\n",
      "\n",
      "         0.0       1.00      0.99      0.99      5535\n",
      "         1.0       0.99      0.99      0.99      2543\n",
      "\n",
      "    accuracy                           0.99      8078\n",
      "   macro avg       0.99      0.99      0.99      8078\n",
      "weighted avg       0.99      0.99      0.99      8078\n",
      "\n"
     ]
    },
    {
     "data": {
      "image/png": "[encoded data removed]",
      "text/plain": [
       "<Figure size 432x288 with 1 Axes>"
      ]
     },
     "metadata": {
      "needs_background": "light"
     },
     "output_type": "display_data"
    }
   ],
   "source": [
    "# final model\n",
    "model = GradientBoostingClassifier(learning_rate=0.1, n_estimators=100,max_depth=3, min_samples_split=2, min_samples_leaf=1, subsample=1,max_features='sqrt')\n",
    "model.fit(train,y_train)\n",
    "predictors=list(df.columns)\n",
    "feat_imp_model = pd.Series(model.feature_importances_, predictors).sort_values(ascending=False)\n",
    "feat_imp_model.plot(kind='bar', title='Importance of Features')\n",
    "plt.ylabel('Feature Importance Score')\n",
    "print('Accuracy of the GBM on train set: {:.3f}'.format(model.score(train, y_train)))\n",
    "print('Accuracy of the GBM on validation set: {:.3f}'.format(model.score(validate, y_validate)))\n",
    "prediction_valid = model.predict(validate)\n",
    "print(classification_report(y_validate, prediction_valid))\n",
    "prediction_test = model.predict(test)\n",
    "print(classification_report(y_test, prediction_test))"
   ]
  },
  {
   "cell_type": "code",
   "execution_count": 77,
   "metadata": {},
   "outputs": [],
   "source": [
    "# saving the model\n",
    "from joblib import dump, load\n",
    "\n",
    "filename = 'model.joblib'\n",
    "dump(model, open(filename,'wb'))"
   ]
  },
  {
   "cell_type": "code",
   "execution_count": 78,
   "metadata": {},
   "outputs": [
    {
     "name": "stdout",
     "output_type": "stream",
     "text": [
      "off_slips\n"
     ]
    },
    {
     "data": {
      "text/plain": [
       "array([0.])"
      ]
     },
     "execution_count": 78,
     "metadata": {},
     "output_type": "execute_result"
    }
   ],
   "source": [
    "from sklearn.pipeline import Pipeline\n",
    "\n",
    "user_input = np.array([5042.509,492.985987,39.519,5795.817,42.90]).reshape(1,5)\n",
    "\n",
    "loaded_model = load(open(filename,'rb'))\n",
    "\n",
    "pipe = Pipeline([('scaler', Normalizer()), ('model', loaded_model)])\n",
    "\n",
    "predction = pipe.predict(user_input)\n",
    "\n",
    "if predction == 0:\n",
    "    print('off_slips')\n",
    "elif predction == 1:\n",
    "    print('on_slips')\n",
    "    \n",
    "    \n",
    "predction"
   ]
  }
 ],
 "metadata": {
  "kernelspec": {
   "display_name": "Python 3",
   "language": "python",
   "name": "python3"
  },
  "language_info": {
   "codemirror_mode": {
    "name": "ipython",
    "version": 3
   },
   "file_extension": ".py",
   "mimetype": "text/x-python",
   "name": "python",
   "nbconvert_exporter": "python",
   "pygments_lexer": "ipython3",
   "version": "3.7.3"
  }
 },
 "nbformat": 4,
 "nbformat_minor": 2
}
